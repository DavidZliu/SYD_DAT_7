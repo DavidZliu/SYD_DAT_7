{
 "cells": [
  {
   "cell_type": "code",
   "execution_count": 1,
   "metadata": {
    "collapsed": true
   },
   "outputs": [],
   "source": [
    "import networkx"
   ]
  },
  {
   "cell_type": "code",
   "execution_count": 2,
   "metadata": {
    "collapsed": false
   },
   "outputs": [
    {
     "name": "stdout",
     "output_type": "stream",
     "text": [
      "Requirement already satisfied: networkx in /Users/gregb/anaconda/lib/python3.5/site-packages\r\n",
      "Requirement already satisfied: decorator>=3.4.0 in /Users/gregb/anaconda/lib/python3.5/site-packages (from networkx)\r\n"
     ]
    }
   ],
   "source": [
    "!pip install networkx"
   ]
  },
  {
   "cell_type": "code",
   "execution_count": 16,
   "metadata": {
    "collapsed": true
   },
   "outputs": [],
   "source": [
    "graph = networkx.Graph()"
   ]
  },
  {
   "cell_type": "code",
   "execution_count": 17,
   "metadata": {
    "collapsed": true
   },
   "outputs": [],
   "source": [
    "graph.add_node('Luke')\n",
    "graph.add_node('Darth Vader')\n",
    "graph.add_node('Chewbacca')\n",
    "graph.add_node('Yoda')\n",
    "graph.add_node('Han Solo')\n",
    "graph.add_node('Leia')\n",
    "graph.add_node('R2D2')\n",
    "graph.add_node('C3PO')"
   ]
  },
  {
   "cell_type": "code",
   "execution_count": 18,
   "metadata": {
    "collapsed": true
   },
   "outputs": [],
   "source": [
    "graph.add_edge('Luke', 'Darth Vader')\n",
    "graph.add_edge('Luke', 'Yoda')\n",
    "graph.add_edge('Luke', 'Han Solo')\n",
    "graph.add_edge('Luke', 'Leia')\n",
    "graph.add_edge('Luke', 'R2D2')\n",
    "graph.add_edge('Han Solo', 'Leia')\n",
    "graph.add_edge('Han Solo', 'Chewbacca')\n",
    "graph.add_edge('R2D2', 'Leia')\n",
    "graph.add_edge('R2D2', 'C3PO')\n",
    "graph.add_edge('R2D2', 'Yoda')\n",
    "graph.add_edge('R2D2', 'Chewbacca')\n",
    "\n"
   ]
  },
  {
   "cell_type": "code",
   "execution_count": 19,
   "metadata": {
    "collapsed": false
   },
   "outputs": [
    {
     "data": {
      "text/plain": [
       "{'C3PO': 1,\n",
       " 'Chewbacca': 2,\n",
       " 'Darth Vader': 1,\n",
       " 'Han Solo': 3,\n",
       " 'Leia': 3,\n",
       " 'Luke': 5,\n",
       " 'R2D2': 5,\n",
       " 'Yoda': 2}"
      ]
     },
     "execution_count": 19,
     "metadata": {},
     "output_type": "execute_result"
    }
   ],
   "source": [
    "networkx.degree(graph)"
   ]
  },
  {
   "cell_type": "code",
   "execution_count": 20,
   "metadata": {
    "collapsed": false
   },
   "outputs": [
    {
     "data": {
      "text/plain": [
       "0.39285714285714285"
      ]
     },
     "execution_count": 20,
     "metadata": {},
     "output_type": "execute_result"
    }
   ],
   "source": [
    "networkx.density(graph)"
   ]
  },
  {
   "cell_type": "code",
   "execution_count": 21,
   "metadata": {
    "collapsed": false
   },
   "outputs": [
    {
     "data": {
      "text/plain": [
       "0.39285714285714285"
      ]
     },
     "execution_count": 21,
     "metadata": {},
     "output_type": "execute_result"
    }
   ],
   "source": [
    "11.0 / 28.0"
   ]
  },
  {
   "cell_type": "code",
   "execution_count": 22,
   "metadata": {
    "collapsed": false
   },
   "outputs": [
    {
     "data": {
      "text/plain": [
       "11.0"
      ]
     },
     "execution_count": 22,
     "metadata": {},
     "output_type": "execute_result"
    }
   ],
   "source": [
    "# where did the 11 come from?\n",
    "sum(networkx.degree(graph).values()) / 2"
   ]
  },
  {
   "cell_type": "code",
   "execution_count": 23,
   "metadata": {
    "collapsed": false
   },
   "outputs": [
    {
     "data": {
      "text/plain": [
       "8"
      ]
     },
     "execution_count": 23,
     "metadata": {},
     "output_type": "execute_result"
    }
   ],
   "source": [
    "# where did the 28 come from?\n",
    "len(graph)"
   ]
  },
  {
   "cell_type": "code",
   "execution_count": 24,
   "metadata": {
    "collapsed": false
   },
   "outputs": [
    {
     "data": {
      "text/plain": [
       "28.0"
      ]
     },
     "execution_count": 24,
     "metadata": {},
     "output_type": "execute_result"
    }
   ],
   "source": [
    "len(graph) * (len(graph)-1) / 2"
   ]
  },
  {
   "cell_type": "code",
   "execution_count": 25,
   "metadata": {
    "collapsed": false
   },
   "outputs": [
    {
     "data": {
      "text/plain": [
       "[{'C3PO',\n",
       "  'Chewbacca',\n",
       "  'Darth Vader',\n",
       "  'Han Solo',\n",
       "  'Leia',\n",
       "  'Luke',\n",
       "  'R2D2',\n",
       "  'Yoda'}]"
      ]
     },
     "execution_count": 25,
     "metadata": {},
     "output_type": "execute_result"
    }
   ],
   "source": [
    "list(networkx.connected_components(graph))"
   ]
  },
  {
   "cell_type": "code",
   "execution_count": 26,
   "metadata": {
    "collapsed": false
   },
   "outputs": [],
   "source": [
    "graph.add_node(\"Finn\")\n",
    "graph.add_node(\"Rey\")\n",
    "graph.add_edge(\"Finn\", \"Rey\")"
   ]
  },
  {
   "cell_type": "code",
   "execution_count": 27,
   "metadata": {
    "collapsed": false
   },
   "outputs": [
    {
     "data": {
      "text/plain": [
       "[{'C3PO',\n",
       "  'Chewbacca',\n",
       "  'Darth Vader',\n",
       "  'Han Solo',\n",
       "  'Leia',\n",
       "  'Luke',\n",
       "  'R2D2',\n",
       "  'Yoda'},\n",
       " {'Finn', 'Rey'}]"
      ]
     },
     "execution_count": 27,
     "metadata": {},
     "output_type": "execute_result"
    }
   ],
   "source": [
    "list(networkx.connected_components(graph))"
   ]
  },
  {
   "cell_type": "code",
   "execution_count": 28,
   "metadata": {
    "collapsed": false
   },
   "outputs": [
    {
     "data": {
      "text/plain": [
       "0.26666666666666666"
      ]
     },
     "execution_count": 28,
     "metadata": {},
     "output_type": "execute_result"
    }
   ],
   "source": [
    "networkx.density(graph)"
   ]
  },
  {
   "cell_type": "code",
   "execution_count": 29,
   "metadata": {
    "collapsed": true
   },
   "outputs": [],
   "source": [
    "(old_school, new_school)= networkx.connected_component_subgraphs(graph)"
   ]
  },
  {
   "cell_type": "code",
   "execution_count": 31,
   "metadata": {
    "collapsed": false
   },
   "outputs": [
    {
     "data": {
      "text/plain": [
       "['Yoda',\n",
       " 'Luke',\n",
       " 'R2D2',\n",
       " 'Han Solo',\n",
       " 'Leia',\n",
       " 'C3PO',\n",
       " 'Chewbacca',\n",
       " 'Darth Vader']"
      ]
     },
     "execution_count": 31,
     "metadata": {},
     "output_type": "execute_result"
    }
   ],
   "source": [
    "old_school.nodes()"
   ]
  },
  {
   "cell_type": "code",
   "execution_count": 32,
   "metadata": {
    "collapsed": false
   },
   "outputs": [
    {
     "data": {
      "text/plain": [
       "0.25"
      ]
     },
     "execution_count": 32,
     "metadata": {},
     "output_type": "execute_result"
    }
   ],
   "source": [
    "networkx.average_clustering(graph)"
   ]
  },
  {
   "cell_type": "code",
   "execution_count": 33,
   "metadata": {
    "collapsed": false
   },
   "outputs": [
    {
     "data": {
      "text/plain": [
       "0.3125"
      ]
     },
     "execution_count": 33,
     "metadata": {},
     "output_type": "execute_result"
    }
   ],
   "source": [
    "networkx.average_clustering(old_school)"
   ]
  },
  {
   "cell_type": "code",
   "execution_count": 34,
   "metadata": {
    "collapsed": false
   },
   "outputs": [
    {
     "data": {
      "text/plain": [
       "0.0"
      ]
     },
     "execution_count": 34,
     "metadata": {},
     "output_type": "execute_result"
    }
   ],
   "source": [
    "networkx.average_clustering(new_school)"
   ]
  },
  {
   "cell_type": "code",
   "execution_count": 35,
   "metadata": {
    "collapsed": false
   },
   "outputs": [
    {
     "ename": "NetworkXError",
     "evalue": "Graph is not connected.",
     "output_type": "error",
     "traceback": [
      "\u001b[0;31m---------------------------------------------------------------------------\u001b[0m",
      "\u001b[0;31mNetworkXError\u001b[0m                             Traceback (most recent call last)",
      "\u001b[0;32m<ipython-input-35-b6cc98d852c2>\u001b[0m in \u001b[0;36m<module>\u001b[0;34m()\u001b[0m\n\u001b[0;32m----> 1\u001b[0;31m \u001b[0mnetworkx\u001b[0m\u001b[0;34m.\u001b[0m\u001b[0maverage_shortest_path_length\u001b[0m\u001b[0;34m(\u001b[0m\u001b[0mgraph\u001b[0m\u001b[0;34m)\u001b[0m\u001b[0;34m\u001b[0m\u001b[0m\n\u001b[0m",
      "\u001b[0;32m/Users/gregb/anaconda/lib/python3.5/site-packages/networkx/algorithms/shortest_paths/generic.py\u001b[0m in \u001b[0;36maverage_shortest_path_length\u001b[0;34m(G, weight)\u001b[0m\n\u001b[1;32m    297\u001b[0m     \u001b[0;32melse\u001b[0m\u001b[0;34m:\u001b[0m\u001b[0;34m\u001b[0m\u001b[0m\n\u001b[1;32m    298\u001b[0m         \u001b[0;32mif\u001b[0m \u001b[0;32mnot\u001b[0m \u001b[0mnx\u001b[0m\u001b[0;34m.\u001b[0m\u001b[0mis_connected\u001b[0m\u001b[0;34m(\u001b[0m\u001b[0mG\u001b[0m\u001b[0;34m)\u001b[0m\u001b[0;34m:\u001b[0m\u001b[0;34m\u001b[0m\u001b[0m\n\u001b[0;32m--> 299\u001b[0;31m             \u001b[0;32mraise\u001b[0m \u001b[0mnx\u001b[0m\u001b[0;34m.\u001b[0m\u001b[0mNetworkXError\u001b[0m\u001b[0;34m(\u001b[0m\u001b[0;34m\"Graph is not connected.\"\u001b[0m\u001b[0;34m)\u001b[0m\u001b[0;34m\u001b[0m\u001b[0m\n\u001b[0m\u001b[1;32m    300\u001b[0m     \u001b[0mavg\u001b[0m\u001b[0;34m=\u001b[0m\u001b[0;36m0.0\u001b[0m\u001b[0;34m\u001b[0m\u001b[0m\n\u001b[1;32m    301\u001b[0m     \u001b[0;32mif\u001b[0m \u001b[0mweight\u001b[0m \u001b[0;32mis\u001b[0m \u001b[0;32mNone\u001b[0m\u001b[0;34m:\u001b[0m\u001b[0;34m\u001b[0m\u001b[0m\n",
      "\u001b[0;31mNetworkXError\u001b[0m: Graph is not connected."
     ]
    }
   ],
   "source": [
    "networkx.average_shortest_path_length(graph)"
   ]
  },
  {
   "cell_type": "code",
   "execution_count": 36,
   "metadata": {
    "collapsed": false
   },
   "outputs": [
    {
     "data": {
      "text/plain": [
       "1.7142857142857142"
      ]
     },
     "execution_count": 36,
     "metadata": {},
     "output_type": "execute_result"
    }
   ],
   "source": [
    "networkx.average_shortest_path_length(old_school)"
   ]
  },
  {
   "cell_type": "code",
   "execution_count": 37,
   "metadata": {
    "collapsed": false
   },
   "outputs": [
    {
     "data": {
      "text/plain": [
       "1.0"
      ]
     },
     "execution_count": 37,
     "metadata": {},
     "output_type": "execute_result"
    }
   ],
   "source": [
    "networkx.average_shortest_path_length(new_school)"
   ]
  },
  {
   "cell_type": "code",
   "execution_count": 38,
   "metadata": {
    "collapsed": false
   },
   "outputs": [
    {
     "data": {
      "text/plain": [
       "2.0794415416798357"
      ]
     },
     "execution_count": 38,
     "metadata": {},
     "output_type": "execute_result"
    }
   ],
   "source": [
    "import math\n",
    "math.log(len(old_school))"
   ]
  },
  {
   "cell_type": "code",
   "execution_count": 40,
   "metadata": {
    "collapsed": false
   },
   "outputs": [
    {
     "data": {
      "text/plain": [
       "{'C3PO': 0.14285714285714285,\n",
       " 'Chewbacca': 0.2857142857142857,\n",
       " 'Darth Vader': 0.14285714285714285,\n",
       " 'Han Solo': 0.42857142857142855,\n",
       " 'Leia': 0.42857142857142855,\n",
       " 'Luke': 0.7142857142857142,\n",
       " 'R2D2': 0.7142857142857142,\n",
       " 'Yoda': 0.2857142857142857}"
      ]
     },
     "execution_count": 40,
     "metadata": {},
     "output_type": "execute_result"
    }
   ],
   "source": [
    "networkx.degree_centrality(old_school)"
   ]
  },
  {
   "cell_type": "code",
   "execution_count": 41,
   "metadata": {
    "collapsed": false
   },
   "outputs": [
    {
     "data": {
      "text/plain": [
       "{'C3PO': 0.0,\n",
       " 'Chewbacca': 0.031746031746031744,\n",
       " 'Darth Vader': 0.0,\n",
       " 'Han Solo': 0.07142857142857142,\n",
       " 'Leia': 0.031746031746031744,\n",
       " 'Luke': 0.38888888888888895,\n",
       " 'R2D2': 0.42857142857142855,\n",
       " 'Yoda': 0.0}"
      ]
     },
     "execution_count": 41,
     "metadata": {},
     "output_type": "execute_result"
    }
   ],
   "source": [
    "networkx.betweenness_centrality(old_school)"
   ]
  },
  {
   "cell_type": "code",
   "execution_count": 42,
   "metadata": {
    "collapsed": false
   },
   "outputs": [
    {
     "data": {
      "text/plain": [
       "{'C3PO': 0.4666666666666667,\n",
       " 'Chewbacca': 0.5384615384615384,\n",
       " 'Darth Vader': 0.4666666666666667,\n",
       " 'Han Solo': 0.5833333333333334,\n",
       " 'Leia': 0.6363636363636364,\n",
       " 'Luke': 0.7777777777777778,\n",
       " 'R2D2': 0.7777777777777778,\n",
       " 'Yoda': 0.5833333333333334}"
      ]
     },
     "execution_count": 42,
     "metadata": {},
     "output_type": "execute_result"
    }
   ],
   "source": [
    "networkx.closeness_centrality(old_school)"
   ]
  },
  {
   "cell_type": "code",
   "execution_count": 44,
   "metadata": {
    "collapsed": false
   },
   "outputs": [
    {
     "data": {
      "text/plain": [
       "{'C3PO': 0.14744195574743982,\n",
       " 'Chewbacca': 0.25414307028362926,\n",
       " 'Darth Vader': 0.15495484777362115,\n",
       " 'Han Solo': 0.3545529314718884,\n",
       " 'Leia': 0.4090979180572505,\n",
       " 'Luke': 0.5148960288519795,\n",
       " 'R2D2': 0.4899291066901972,\n",
       " 'Yoda': 0.302396803521061}"
      ]
     },
     "execution_count": 44,
     "metadata": {},
     "output_type": "execute_result"
    }
   ],
   "source": [
    "networkx.eigenvector_centrality(old_school)"
   ]
  },
  {
   "cell_type": "code",
   "execution_count": 45,
   "metadata": {
    "collapsed": false
   },
   "outputs": [
    {
     "data": {
      "text/plain": [
       "{'C3PO': 0.05614665631600386,\n",
       " 'Chewbacca': 0.09373312138126788,\n",
       " 'Darth Vader': 0.05577337008213003,\n",
       " 'Han Solo': 0.13265693727315855,\n",
       " 'Leia': 0.1307564914633979,\n",
       " 'Luke': 0.21778514826963052,\n",
       " 'R2D2': 0.2199782488162772,\n",
       " 'Yoda': 0.09317002639813389}"
      ]
     },
     "execution_count": 45,
     "metadata": {},
     "output_type": "execute_result"
    }
   ],
   "source": [
    "networkx.pagerank(old_school)"
   ]
  },
  {
   "cell_type": "code",
   "execution_count": 47,
   "metadata": {
    "collapsed": false
   },
   "outputs": [],
   "source": [
    "%matplotlib inline"
   ]
  },
  {
   "cell_type": "code",
   "execution_count": 48,
   "metadata": {
    "collapsed": true
   },
   "outputs": [],
   "source": [
    "import matplotlib.pyplot"
   ]
  },
  {
   "cell_type": "code",
   "execution_count": 50,
   "metadata": {
    "collapsed": false
   },
   "outputs": [
    {
     "data": {
      "image/png": "[encoded data removed]",
      "text/plain": [
       "<matplotlib.figure.Figure at 0x10c52a668>"
      ]
     },
     "metadata": {},
     "output_type": "display_data"
    }
   ],
   "source": [
    "networkx.draw(graph)"
   ]
  },
  {
   "cell_type": "code",
   "execution_count": 56,
   "metadata": {
    "collapsed": false,
    "scrolled": true
   },
   "outputs": [
    {
     "data": {
      "image/png": "[encoded data removed]",
      "text/plain": [
       "<matplotlib.figure.Figure at 0x10d158550>"
      ]
     },
     "metadata": {},
     "output_type": "display_data"
    }
   ],
   "source": [
    "networkx.draw(graph, with_labels=True, node_size=5000)"
   ]
  },
  {
   "cell_type": "code",
   "execution_count": 59,
   "metadata": {
    "collapsed": false
   },
   "outputs": [
    {
     "data": {
      "image/png": "[encoded data removed]",
      "text/plain": [
       "<matplotlib.figure.Figure at 0x10db097f0>"
      ]
     },
     "metadata": {},
     "output_type": "display_data"
    }
   ],
   "source": [
    "networkx.draw_networkx(graph, with_labels=True, node_size=50)"
   ]
  },
  {
   "cell_type": "code",
   "execution_count": 61,
   "metadata": {
    "collapsed": false
   },
   "outputs": [
    {
     "data": {
      "text/plain": [
       "{'C3PO': array([ 0.0656443 ,  0.73789388]),\n",
       " 'Chewbacca': array([ 0.30209768,  0.        ]),\n",
       " 'Darth Vader': array([ 0.48301687,  0.9708185 ]),\n",
       " 'Finn': array([ 1.        ,  0.47100558]),\n",
       " 'Han Solo': array([ 0.6184146 ,  0.00474527]),\n",
       " 'Leia': array([ 0.44495605,  0.17366963]),\n",
       " 'Luke': array([ 0.39191213,  0.47510519]),\n",
       " 'R2D2': array([ 0.10558195,  0.29330073]),\n",
       " 'Rey': array([ 0.91810972,  0.72355436]),\n",
       " 'Yoda': array([ 0.        ,  0.49620813])}"
      ]
     },
     "execution_count": 61,
     "metadata": {},
     "output_type": "execute_result"
    }
   ],
   "source": [
    "positions = networkx.layout.spring_layout(graph)\n",
    "positions"
   ]
  },
  {
   "cell_type": "code",
   "execution_count": 62,
   "metadata": {
    "collapsed": false
   },
   "outputs": [
    {
     "data": {
      "image/png": "[encoded data removed]",
      "text/plain": [
       "<matplotlib.figure.Figure at 0x10dc677b8>"
      ]
     },
     "metadata": {},
     "output_type": "display_data"
    }
   ],
   "source": [
    "networkx.draw_networkx(graph, pos=positions)"
   ]
  },
  {
   "cell_type": "code",
   "execution_count": 64,
   "metadata": {
    "collapsed": false
   },
   "outputs": [
    {
     "data": {
      "text/plain": [
       "[['Luke', 'Han Solo', 'Leia'], ['Chewbacca', 'Han Solo']]"
      ]
     },
     "execution_count": 64,
     "metadata": {},
     "output_type": "execute_result"
    }
   ],
   "source": [
    "networkx.clique.cliques_containing_node(old_school, 'Han Solo')"
   ]
  },
  {
   "cell_type": "code",
   "execution_count": 65,
   "metadata": {
    "collapsed": false
   },
   "outputs": [
    {
     "data": {
      "text/plain": [
       "[['Luke', 'R2D2', 'Leia'],\n",
       " ['Luke', 'R2D2', 'Yoda'],\n",
       " ['Luke', 'Han Solo', 'Leia'],\n",
       " ['Luke', 'Darth Vader']]"
      ]
     },
     "execution_count": 65,
     "metadata": {},
     "output_type": "execute_result"
    }
   ],
   "source": [
    "networkx.clique.cliques_containing_node(old_school, 'Luke')"
   ]
  },
  {
   "cell_type": "code",
   "execution_count": 68,
   "metadata": {
    "collapsed": false
   },
   "outputs": [
    {
     "data": {
      "text/plain": [
       "[['Luke', 'Leia', 'R2D2'],\n",
       " ['Luke', 'Leia', 'Han Solo'],\n",
       " ['Luke', 'Yoda', 'R2D2'],\n",
       " ['Luke', 'Darth Vader'],\n",
       " ['Rey', 'Finn'],\n",
       " ['Chewbacca', 'R2D2'],\n",
       " ['Chewbacca', 'Han Solo'],\n",
       " ['C3PO', 'R2D2']]"
      ]
     },
     "execution_count": 68,
     "metadata": {},
     "output_type": "execute_result"
    }
   ],
   "source": [
    "list(networkx.clique.find_cliques(graph))"
   ]
  },
  {
   "cell_type": "code",
   "execution_count": 69,
   "metadata": {
    "collapsed": false
   },
   "outputs": [
    {
     "data": {
      "text/plain": [
       "[('Leia', 'C3PO', 0.3333333333333333),\n",
       " ('Leia', 'Chewbacca', 0.6666666666666666),\n",
       " ('Leia', 'Finn', 0.0),\n",
       " ('Leia', 'Rey', 0.0),\n",
       " ('Leia', 'Yoda', 0.6666666666666666),\n",
       " ('Leia', 'Darth Vader', 0.3333333333333333),\n",
       " ('C3PO', 'Chewbacca', 0.5),\n",
       " ('C3PO', 'Luke', 0.2),\n",
       " ('C3PO', 'Han Solo', 0.0),\n",
       " ('C3PO', 'Finn', 0.0),\n",
       " ('C3PO', 'Rey', 0.0),\n",
       " ('C3PO', 'Yoda', 0.5),\n",
       " ('C3PO', 'Darth Vader', 0.0),\n",
       " ('Chewbacca', 'Luke', 0.4),\n",
       " ('Chewbacca', 'Rey', 0.0),\n",
       " ('Chewbacca', 'Finn', 0.0),\n",
       " ('Chewbacca', 'Yoda', 0.3333333333333333),\n",
       " ('Chewbacca', 'Darth Vader', 0.0),\n",
       " ('Luke', 'Rey', 0.0),\n",
       " ('Luke', 'Finn', 0.0),\n",
       " ('R2D2', 'Rey', 0.0),\n",
       " ('R2D2', 'Han Solo', 0.6),\n",
       " ('R2D2', 'Finn', 0.0),\n",
       " ('R2D2', 'Darth Vader', 0.2),\n",
       " ('Han Solo', 'Rey', 0.0),\n",
       " ('Han Solo', 'Finn', 0.0),\n",
       " ('Han Solo', 'Yoda', 0.25),\n",
       " ('Han Solo', 'Darth Vader', 0.3333333333333333),\n",
       " ('Finn', 'Yoda', 0.0),\n",
       " ('Finn', 'Darth Vader', 0.0),\n",
       " ('Rey', 'Yoda', 0.0),\n",
       " ('Rey', 'Darth Vader', 0.0),\n",
       " ('Yoda', 'Darth Vader', 0.5)]"
      ]
     },
     "execution_count": 69,
     "metadata": {},
     "output_type": "execute_result"
    }
   ],
   "source": [
    "list(networkx.jaccard_coefficient(graph))"
   ]
  },
  {
   "cell_type": "code",
   "execution_count": 72,
   "metadata": {
    "collapsed": false
   },
   "outputs": [
    {
     "data": {
      "text/plain": [
       "[('Luke', 'R2D2', 0.25)]"
      ]
     },
     "execution_count": 72,
     "metadata": {},
     "output_type": "execute_result"
    }
   ],
   "source": [
    "list(networkx.jaccard_coefficient(graph, [('Luke', 'R2D2')]))"
   ]
  },
  {
   "cell_type": "code",
   "execution_count": null,
   "metadata": {
    "collapsed": true
   },
   "outputs": [],
   "source": []
  },
  {
   "cell_type": "code",
   "execution_count": null,
   "metadata": {
    "collapsed": true
   },
   "outputs": [],
   "source": []
  }
 ],
 "metadata": {
  "anaconda-cloud": {},
  "kernelspec": {
   "display_name": "Python [conda root]",
   "language": "python",
   "name": "conda-root-py"
  },
  "language_info": {
   "codemirror_mode": {
    "name": "ipython",
    "version": 3
   },
   "file_extension": ".py",
   "mimetype": "text/x-python",
   "name": "python",
   "nbconvert_exporter": "python",
   "pygments_lexer": "ipython3",
   "version": "3.5.2"
  }
 },
 "nbformat": 4,
 "nbformat_minor": 1
}

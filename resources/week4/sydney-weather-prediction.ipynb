{
 "cells": [
  {
   "cell_type": "code",
   "execution_count": 16,
   "metadata": {
    "collapsed": true
   },
   "outputs": [],
   "source": [
    "import requests"
   ]
  },
  {
   "cell_type": "code",
   "execution_count": 17,
   "metadata": {
    "collapsed": true
   },
   "outputs": [],
   "source": [
    "r = requests.get('http://www.bom.gov.au/nsw/forecasts/sydney.shtml')"
   ]
  },
  {
   "cell_type": "code",
   "execution_count": 18,
   "metadata": {
    "collapsed": false
   },
   "outputs": [
    {
     "data": {
      "text/plain": [
       "200"
      ]
     },
     "execution_count": 18,
     "metadata": {},
     "output_type": "execute_result"
    }
   ],
   "source": [
    "r.status_code"
   ]
  },
  {
   "cell_type": "code",
   "execution_count": 19,
   "metadata": {
    "collapsed": true
   },
   "outputs": [],
   "source": [
    "import bs4"
   ]
  },
  {
   "cell_type": "code",
   "execution_count": 20,
   "metadata": {
    "collapsed": true
   },
   "outputs": [],
   "source": [
    "soup = bs4.BeautifulSoup(r.text, 'lxml')"
   ]
  },
  {
   "cell_type": "code",
   "execution_count": 7,
   "metadata": {
    "collapsed": false
   },
   "outputs": [],
   "source": [
    "first_mentioned_minimum = soup.find('em', class_='min')\n",
    "first_mentioned_maximum = soup.find('em', class_='max')"
   ]
  },
  {
   "cell_type": "code",
   "execution_count": 9,
   "metadata": {
    "collapsed": false
   },
   "outputs": [
    {
     "data": {
      "text/plain": [
       "26"
      ]
     },
     "execution_count": 9,
     "metadata": {},
     "output_type": "execute_result"
    }
   ],
   "source": [
    "int(first_mentioned_maximum.text)"
   ]
  },
  {
   "cell_type": "markdown",
   "metadata": {},
   "source": [
    "Let's get a week of icons"
   ]
  },
  {
   "cell_type": "code",
   "execution_count": 11,
   "metadata": {
    "collapsed": false
   },
   "outputs": [
    {
     "data": {
      "text/plain": [
       "[<img alt=\"\" height=\"42\" src=\"/images/symbols/large/storm.png\" width=\"45\"/>,\n",
       " <img alt=\"\" height=\"42\" src=\"/images/symbols/large/storm.png\" width=\"45\"/>,\n",
       " <img alt=\"\" height=\"42\" src=\"/images/symbols/large/storm.png\" width=\"45\"/>,\n",
       " <img alt=\"\" height=\"42\" src=\"/images/symbols/large/showers.png\" width=\"45\"/>,\n",
       " <img alt=\"\" height=\"42\" src=\"/images/symbols/large/showers.png\" width=\"45\"/>,\n",
       " <img alt=\"\" height=\"42\" src=\"/images/symbols/large/showers.png\" width=\"45\"/>,\n",
       " <img alt=\"\" height=\"42\" src=\"/images/symbols/large/showers.png\" width=\"45\"/>,\n",
       " <img alt=\"\" height=\"42\" src=\"/images/symbols/large/showers.png\" width=\"45\"/>]"
      ]
     },
     "execution_count": 11,
     "metadata": {},
     "output_type": "execute_result"
    }
   ],
   "source": [
    "soup.find_all('img', height=42, width=45)"
   ]
  },
  {
   "cell_type": "code",
   "execution_count": 14,
   "metadata": {
    "collapsed": false
   },
   "outputs": [
    {
     "data": {
      "text/plain": [
       "['storm',\n",
       " 'storm',\n",
       " 'storm',\n",
       " 'showers',\n",
       " 'showers',\n",
       " 'showers',\n",
       " 'showers',\n",
       " 'showers']"
      ]
     },
     "execution_count": 14,
     "metadata": {},
     "output_type": "execute_result"
    }
   ],
   "source": [
    "[x['src'].split('/')[-1][:-4] for x in soup.find_all('img', height=42, width=45)]"
   ]
  },
  {
   "cell_type": "code",
   "execution_count": null,
   "metadata": {
    "collapsed": true
   },
   "outputs": [],
   "source": []
  },
  {
   "cell_type": "code",
   "execution_count": 15,
   "metadata": {
    "collapsed": false
   },
   "outputs": [
    {
     "data": {
      "text/plain": [
       "[<h2>Forecast for the rest of Thursday</h2>,\n",
       " <h2>Friday 3 March</h2>,\n",
       " <h2>Saturday 4 March</h2>,\n",
       " <h2>Sunday 5 March</h2>,\n",
       " <h2>Monday 6 March</h2>,\n",
       " <h2>Tuesday 7 March</h2>,\n",
       " <h2>Wednesday 8 March</h2>,\n",
       " <h2>Thursday 9 March</h2>]"
      ]
     },
     "execution_count": 15,
     "metadata": {},
     "output_type": "execute_result"
    }
   ],
   "source": [
    "soup.find_all('h2')"
   ]
  },
  {
   "cell_type": "code",
   "execution_count": 23,
   "metadata": {
    "collapsed": false
   },
   "outputs": [
    {
     "data": {
      "text/plain": [
       "<h2>Saturday 4 March</h2>"
      ]
     },
     "execution_count": 23,
     "metadata": {},
     "output_type": "execute_result"
    }
   ],
   "source": [
    "saturday = soup.find('h2', string=lambda x: 'Saturday' in x)\n",
    "saturday"
   ]
  },
  {
   "cell_type": "code",
   "execution_count": 24,
   "metadata": {
    "collapsed": true
   },
   "outputs": [],
   "source": [
    "# or we could write it like this.\n",
    "\n",
    "def saturday_finder(x):\n",
    "    if \"Saturday\" in x: return True\n",
    "    else: return False\n",
    "\n",
    "saturday = soup.find('h2', string=saturday_finder)"
   ]
  },
  {
   "cell_type": "code",
   "execution_count": 28,
   "metadata": {
    "collapsed": false
   },
   "outputs": [],
   "source": [
    "saturday_forecast_div = saturday.parent.find('div', class_=\"forecast\")"
   ]
  },
  {
   "cell_type": "code",
   "execution_count": 30,
   "metadata": {
    "collapsed": false
   },
   "outputs": [
    {
     "data": {
      "text/plain": [
       "'21'"
      ]
     },
     "execution_count": 30,
     "metadata": {},
     "output_type": "execute_result"
    }
   ],
   "source": [
    "int(saturday_forecast_div.find('em', class_='min').text)"
   ]
  },
  {
   "cell_type": "code",
   "execution_count": 31,
   "metadata": {
    "collapsed": false
   },
   "outputs": [
    {
     "data": {
      "text/plain": [
       "26"
      ]
     },
     "execution_count": 31,
     "metadata": {},
     "output_type": "execute_result"
    }
   ],
   "source": [
    "int(saturday_forecast_div.find('em', class_='max').text)"
   ]
  },
  {
   "cell_type": "code",
   "execution_count": 39,
   "metadata": {
    "collapsed": false
   },
   "outputs": [
    {
     "data": {
      "text/plain": [
       "200"
      ]
     },
     "execution_count": 39,
     "metadata": {},
     "output_type": "execute_result"
    }
   ],
   "source": [
    "url = 'http://pokeapi.co/api/v2/move/double-slap'\n",
    "r = requests.get(url)\n",
    "r.status_code"
   ]
  },
  {
   "cell_type": "code",
   "execution_count": 40,
   "metadata": {
    "collapsed": false
   },
   "outputs": [
    {
     "data": {
      "text/plain": [
       "{'accuracy': 85,\n",
       " 'contest_combos': {'normal': {'use_after': [{'name': 'pound',\n",
       "     'url': 'http://pokeapi.co/api/v2/move/1/'},\n",
       "    {'name': 'rain-dance', 'url': 'http://pokeapi.co/api/v2/move/240/'}],\n",
       "   'use_before': None},\n",
       "  'super': {'use_after': None, 'use_before': None}},\n",
       " 'contest_effect': {'url': 'http://pokeapi.co/api/v2/contest-effect/10/'},\n",
       " 'contest_type': {'name': 'tough',\n",
       "  'url': 'http://pokeapi.co/api/v2/contest-type/5/'},\n",
       " 'damage_class': {'name': 'physical',\n",
       "  'url': 'http://pokeapi.co/api/v2/move-damage-class/2/'},\n",
       " 'effect_chance': None,\n",
       " 'effect_changes': [],\n",
       " 'effect_entries': [{'effect': 'Inflicts regular damage.  Hits 2–5 times in one turn.\\n\\nHas a 3/8 chance each to hit 2 or 3 times, and a 1/8 chance each to hit 4 or 5 times.  Averages to 3 hits per use.',\n",
       "   'language': {'name': 'en', 'url': 'http://pokeapi.co/api/v2/language/9/'},\n",
       "   'short_effect': 'Hits 2-5 times in one turn.'}],\n",
       " 'flavor_text_entries': [{'flavor_text': 'おうふく\\u3000ビンタで\\n相手を\\u3000たたいて\\u3000攻撃する。\\n２ー５回の\\u3000あいだ\\u3000連続で\\u3000だす。',\n",
       "   'language': {'name': 'ja-kanji',\n",
       "    'url': 'http://pokeapi.co/api/v2/language/11/'},\n",
       "   'version_group': {'name': 'omega-ruby-alpha-sapphire',\n",
       "    'url': 'http://pokeapi.co/api/v2/version-group/16/'}},\n",
       "  {'flavor_text': 'The target is slapped repeatedly, back\\nand forth, two to five times in a row.',\n",
       "   'language': {'name': 'en', 'url': 'http://pokeapi.co/api/v2/language/9/'},\n",
       "   'version_group': {'name': 'omega-ruby-alpha-sapphire',\n",
       "    'url': 'http://pokeapi.co/api/v2/version-group/16/'}},\n",
       "  {'flavor_text': 'Schiaffeggia il bersaglio da due a cinque volte\\ndi fila.',\n",
       "   'language': {'name': 'it', 'url': 'http://pokeapi.co/api/v2/language/8/'},\n",
       "   'version_group': {'name': 'omega-ruby-alpha-sapphire',\n",
       "    'url': 'http://pokeapi.co/api/v2/version-group/16/'}},\n",
       "  {'flavor_text': 'Abofetea de dos a cinco veces seguidas.',\n",
       "   'language': {'name': 'es', 'url': 'http://pokeapi.co/api/v2/language/7/'},\n",
       "   'version_group': {'name': 'omega-ruby-alpha-sapphire',\n",
       "    'url': 'http://pokeapi.co/api/v2/version-group/16/'}},\n",
       "  {'flavor_text': 'Trifft das Ziel zwei- bis fünfmal hintereinander\\nmit einem Duplexhieb.',\n",
       "   'language': {'name': 'de', 'url': 'http://pokeapi.co/api/v2/language/6/'},\n",
       "   'version_group': {'name': 'omega-ruby-alpha-sapphire',\n",
       "    'url': 'http://pokeapi.co/api/v2/version-group/16/'}},\n",
       "  {'flavor_text': 'Gifle rapidement l’ennemi de deux à cinq fois\\nd’affilée.',\n",
       "   'language': {'name': 'fr', 'url': 'http://pokeapi.co/api/v2/language/5/'},\n",
       "   'version_group': {'name': 'omega-ruby-alpha-sapphire',\n",
       "    'url': 'http://pokeapi.co/api/v2/version-group/16/'}},\n",
       "  {'flavor_text': '연속 뺨치기로\\n상대를 때려서 공격한다.\\n2-5회 동안 연속으로 쓴다.',\n",
       "   'language': {'name': 'ko', 'url': 'http://pokeapi.co/api/v2/language/3/'},\n",
       "   'version_group': {'name': 'omega-ruby-alpha-sapphire',\n",
       "    'url': 'http://pokeapi.co/api/v2/version-group/16/'}},\n",
       "  {'flavor_text': 'おうふく\\u3000ビンタで\\nあいてを\\u3000たたいて\\u3000こうげきする。\\n２ー５かいの\\u3000あいだ\\u3000れんぞくで\\u3000だす。',\n",
       "   'language': {'name': 'ja', 'url': 'http://pokeapi.co/api/v2/language/1/'},\n",
       "   'version_group': {'name': 'omega-ruby-alpha-sapphire',\n",
       "    'url': 'http://pokeapi.co/api/v2/version-group/16/'}},\n",
       "  {'flavor_text': 'おうふく\\u3000ビンタで\\n相手を\\u3000たたいて\\u3000攻撃する。\\n２ー５回の\\u3000あいだ\\u3000連続で\\u3000だす。',\n",
       "   'language': {'name': 'ja-kanji',\n",
       "    'url': 'http://pokeapi.co/api/v2/language/11/'},\n",
       "   'version_group': {'name': 'x-y',\n",
       "    'url': 'http://pokeapi.co/api/v2/version-group/15/'}},\n",
       "  {'flavor_text': 'The target is slapped repeatedly, back\\nand forth, two to five times in a row.',\n",
       "   'language': {'name': 'en', 'url': 'http://pokeapi.co/api/v2/language/9/'},\n",
       "   'version_group': {'name': 'x-y',\n",
       "    'url': 'http://pokeapi.co/api/v2/version-group/15/'}},\n",
       "  {'flavor_text': 'Schiaffeggia il bersaglio da due a cinque volte\\ndi fila.',\n",
       "   'language': {'name': 'it', 'url': 'http://pokeapi.co/api/v2/language/8/'},\n",
       "   'version_group': {'name': 'x-y',\n",
       "    'url': 'http://pokeapi.co/api/v2/version-group/15/'}},\n",
       "  {'flavor_text': 'Abofetea de dos a cinco veces seguidas.',\n",
       "   'language': {'name': 'es', 'url': 'http://pokeapi.co/api/v2/language/7/'},\n",
       "   'version_group': {'name': 'x-y',\n",
       "    'url': 'http://pokeapi.co/api/v2/version-group/15/'}},\n",
       "  {'flavor_text': 'Trifft das Ziel zwei- bis fünfmal hintereinander\\nmit einem Duplexhieb.',\n",
       "   'language': {'name': 'de', 'url': 'http://pokeapi.co/api/v2/language/6/'},\n",
       "   'version_group': {'name': 'x-y',\n",
       "    'url': 'http://pokeapi.co/api/v2/version-group/15/'}},\n",
       "  {'flavor_text': 'Gifle rapidement l’ennemi de deux à cinq fois\\nd’affilée.',\n",
       "   'language': {'name': 'fr', 'url': 'http://pokeapi.co/api/v2/language/5/'},\n",
       "   'version_group': {'name': 'x-y',\n",
       "    'url': 'http://pokeapi.co/api/v2/version-group/15/'}},\n",
       "  {'flavor_text': '연속 뺨치기로\\n상대를 때려서 공격한다.\\n2-5회 동안 연속으로 쓴다.',\n",
       "   'language': {'name': 'ko', 'url': 'http://pokeapi.co/api/v2/language/3/'},\n",
       "   'version_group': {'name': 'x-y',\n",
       "    'url': 'http://pokeapi.co/api/v2/version-group/15/'}},\n",
       "  {'flavor_text': 'おうふく\\u3000ビンタで\\nあいてを\\u3000たたいて\\u3000こうげきする。\\n２ー５かいの\\u3000あいだ\\u3000れんぞくで\\u3000だす。',\n",
       "   'language': {'name': 'ja', 'url': 'http://pokeapi.co/api/v2/language/1/'},\n",
       "   'version_group': {'name': 'x-y',\n",
       "    'url': 'http://pokeapi.co/api/v2/version-group/15/'}},\n",
       "  {'flavor_text': 'The target is slapped repeatedly, back\\nand forth, two to five times in a row.',\n",
       "   'language': {'name': 'en', 'url': 'http://pokeapi.co/api/v2/language/9/'},\n",
       "   'version_group': {'name': 'black-2-white-2',\n",
       "    'url': 'http://pokeapi.co/api/v2/version-group/14/'}},\n",
       "  {'flavor_text': 'The target is slapped repeatedly, back\\nand forth, two to five times in a row.',\n",
       "   'language': {'name': 'en', 'url': 'http://pokeapi.co/api/v2/language/9/'},\n",
       "   'version_group': {'name': 'black-white',\n",
       "    'url': 'http://pokeapi.co/api/v2/version-group/11/'}},\n",
       "  {'flavor_text': 'Gifle rapidement l’ennemi\\nde 2 à 5 fois d’affilée.',\n",
       "   'language': {'name': 'fr', 'url': 'http://pokeapi.co/api/v2/language/5/'},\n",
       "   'version_group': {'name': 'black-white',\n",
       "    'url': 'http://pokeapi.co/api/v2/version-group/11/'}},\n",
       "  {'flavor_text': 'The foe is slapped\\nrepeatedly, back\\nand forth, two to\\nfive times in a row.\\n',\n",
       "   'language': {'name': 'en', 'url': 'http://pokeapi.co/api/v2/language/9/'},\n",
       "   'version_group': {'name': 'heartgold-soulsilver',\n",
       "    'url': 'http://pokeapi.co/api/v2/version-group/10/'}},\n",
       "  {'flavor_text': 'The foe is slapped\\nrepeatedly, back\\nand forth, two to\\nfive times in a row.\\n',\n",
       "   'language': {'name': 'en', 'url': 'http://pokeapi.co/api/v2/language/9/'},\n",
       "   'version_group': {'name': 'platinum',\n",
       "    'url': 'http://pokeapi.co/api/v2/version-group/9/'}},\n",
       "  {'flavor_text': 'The foe is slapped\\nrepeatedly, back\\nand forth, two to\\nfive times in a row.\\n',\n",
       "   'language': {'name': 'en', 'url': 'http://pokeapi.co/api/v2/language/9/'},\n",
       "   'version_group': {'name': 'diamond-pearl',\n",
       "    'url': 'http://pokeapi.co/api/v2/version-group/8/'}},\n",
       "  {'flavor_text': 'The foe is slapped\\nrepeatedly, back\\nand forth, two to\\nfive times.',\n",
       "   'language': {'name': 'en', 'url': 'http://pokeapi.co/api/v2/language/9/'},\n",
       "   'version_group': {'name': 'firered-leafgreen',\n",
       "    'url': 'http://pokeapi.co/api/v2/version-group/7/'}},\n",
       "  {'flavor_text': 'Repeatedly slaps the foe\\n2 to 5 times.',\n",
       "   'language': {'name': 'en', 'url': 'http://pokeapi.co/api/v2/language/9/'},\n",
       "   'version_group': {'name': 'emerald',\n",
       "    'url': 'http://pokeapi.co/api/v2/version-group/6/'}},\n",
       "  {'flavor_text': 'Repeatedly slaps the foe\\n2 to 5 times.',\n",
       "   'language': {'name': 'en', 'url': 'http://pokeapi.co/api/v2/language/9/'},\n",
       "   'version_group': {'name': 'ruby-sapphire',\n",
       "    'url': 'http://pokeapi.co/api/v2/version-group/5/'}},\n",
       "  {'flavor_text': 'Repeatedly slaps\\n2-5 times.',\n",
       "   'language': {'name': 'en', 'url': 'http://pokeapi.co/api/v2/language/9/'},\n",
       "   'version_group': {'name': 'crystal',\n",
       "    'url': 'http://pokeapi.co/api/v2/version-group/4/'}},\n",
       "  {'flavor_text': 'Repeatedly slaps\\n2-5 times.',\n",
       "   'language': {'name': 'en', 'url': 'http://pokeapi.co/api/v2/language/9/'},\n",
       "   'version_group': {'name': 'gold-silver',\n",
       "    'url': 'http://pokeapi.co/api/v2/version-group/3/'}}],\n",
       " 'generation': {'name': 'generation-i',\n",
       "  'url': 'http://pokeapi.co/api/v2/generation/1/'},\n",
       " 'id': 3,\n",
       " 'machines': [],\n",
       " 'meta': {'ailment': {'name': 'none',\n",
       "   'url': 'http://pokeapi.co/api/v2/move-ailment/0/'},\n",
       "  'ailment_chance': 0,\n",
       "  'category': {'name': 'damage',\n",
       "   'url': 'http://pokeapi.co/api/v2/move-category/0/'},\n",
       "  'crit_rate': 0,\n",
       "  'drain': 0,\n",
       "  'flinch_chance': 0,\n",
       "  'healing': 0,\n",
       "  'max_hits': 5,\n",
       "  'max_turns': None,\n",
       "  'min_hits': 2,\n",
       "  'min_turns': None,\n",
       "  'stat_chance': 0},\n",
       " 'name': 'double-slap',\n",
       " 'names': [{'language': {'name': 'en',\n",
       "    'url': 'http://pokeapi.co/api/v2/language/9/'},\n",
       "   'name': 'Double Slap'},\n",
       "  {'language': {'name': 'it', 'url': 'http://pokeapi.co/api/v2/language/8/'},\n",
       "   'name': 'Doppiasberla'},\n",
       "  {'language': {'name': 'es', 'url': 'http://pokeapi.co/api/v2/language/7/'},\n",
       "   'name': 'Doble Bofetón'},\n",
       "  {'language': {'name': 'de', 'url': 'http://pokeapi.co/api/v2/language/6/'},\n",
       "   'name': 'Duplexhieb'},\n",
       "  {'language': {'name': 'fr', 'url': 'http://pokeapi.co/api/v2/language/5/'},\n",
       "   'name': 'Torgnoles'},\n",
       "  {'language': {'name': 'ko', 'url': 'http://pokeapi.co/api/v2/language/3/'},\n",
       "   'name': '연속뺨치기'},\n",
       "  {'language': {'name': 'ja', 'url': 'http://pokeapi.co/api/v2/language/1/'},\n",
       "   'name': 'おうふくビンタ'}],\n",
       " 'past_values': [],\n",
       " 'power': 15,\n",
       " 'pp': 10,\n",
       " 'priority': 0,\n",
       " 'stat_changes': [],\n",
       " 'super_contest_effect': {'url': 'http://pokeapi.co/api/v2/super-contest-effect/7/'},\n",
       " 'target': {'name': 'selected-pokemon',\n",
       "  'url': 'http://pokeapi.co/api/v2/move-target/10/'},\n",
       " 'type': {'name': 'normal', 'url': 'http://pokeapi.co/api/v2/type/1/'}}"
      ]
     },
     "execution_count": 40,
     "metadata": {},
     "output_type": "execute_result"
    }
   ],
   "source": [
    "r.json()"
   ]
  },
  {
   "cell_type": "code",
   "execution_count": 41,
   "metadata": {
    "collapsed": false
   },
   "outputs": [
    {
     "data": {
      "text/plain": [
       "85"
      ]
     },
     "execution_count": 41,
     "metadata": {},
     "output_type": "execute_result"
    }
   ],
   "source": [
    "r.json()['accuracy']"
   ]
  },
  {
   "cell_type": "code",
   "execution_count": 43,
   "metadata": {
    "collapsed": false
   },
   "outputs": [
    {
     "data": {
      "text/plain": [
       "'Inflicts regular damage.  Hits 2–5 times in one turn.\\n\\nHas a 3/8 chance each to hit 2 or 3 times, and a 1/8 chance each to hit 4 or 5 times.  Averages to 3 hits per use.'"
      ]
     },
     "execution_count": 43,
     "metadata": {},
     "output_type": "execute_result"
    }
   ],
   "source": [
    "r.json()['effect_entries'][0]['effect']"
   ]
  },
  {
   "cell_type": "code",
   "execution_count": null,
   "metadata": {
    "collapsed": true
   },
   "outputs": [],
   "source": []
  }
 ],
 "metadata": {
  "anaconda-cloud": {},
  "kernelspec": {
   "display_name": "Python [conda root]",
   "language": "python",
   "name": "conda-root-py"
  },
  "language_info": {
   "codemirror_mode": {
    "name": "ipython",
    "version": 3
   },
   "file_extension": ".py",
   "mimetype": "text/x-python",
   "name": "python",
   "nbconvert_exporter": "python",
   "pygments_lexer": "ipython3",
   "version": "3.5.2"
  }
 },
 "nbformat": 4,
 "nbformat_minor": 1
}

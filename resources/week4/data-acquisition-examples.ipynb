{
 "cells": [
  {
   "cell_type": "code",
   "execution_count": 3,
   "metadata": {
    "collapsed": false
   },
   "outputs": [
    {
     "name": "stdout",
     "output_type": "stream",
     "text": [
      "Collecting pandas_datareader\n",
      "  Downloading pandas_datareader-0.3.0.post0-py2.py3-none-any.whl (70kB)\n",
      "\u001b[K    100% |████████████████████████████████| 71kB 1.0MB/s \n",
      "\u001b[?25hCollecting requests-ftp (from pandas_datareader)\n",
      "  Downloading requests-ftp-0.3.1.tar.gz\n",
      "Requirement already satisfied: pandas in /Users/gregb/anaconda/lib/python3.5/site-packages (from pandas_datareader)\n",
      "Requirement already satisfied: requests>=2.3.0 in /Users/gregb/anaconda/lib/python3.5/site-packages (from pandas_datareader)\n",
      "Collecting requests-file (from pandas_datareader)\n",
      "  Downloading requests_file-1.4.1-py2.py3-none-any.whl\n",
      "Requirement already satisfied: python-dateutil>=2 in /Users/gregb/anaconda/lib/python3.5/site-packages (from pandas->pandas_datareader)\n",
      "Requirement already satisfied: pytz>=2011k in /Users/gregb/anaconda/lib/python3.5/site-packages (from pandas->pandas_datareader)\n",
      "Requirement already satisfied: numpy>=1.7.0 in /Users/gregb/anaconda/lib/python3.5/site-packages (from pandas->pandas_datareader)\n",
      "Requirement already satisfied: six in /Users/gregb/anaconda/lib/python3.5/site-packages (from requests-file->pandas_datareader)\n",
      "Building wheels for collected packages: requests-ftp\n",
      "  Running setup.py bdist_wheel for requests-ftp ... \u001b[?25l-\b \b\\\b \b|\b \bdone\n",
      "\u001b[?25h  Stored in directory: /Users/gregb/Library/Caches/pip/wheels/76/fb/0d/1026eb562c34a4982dc9d39c9c582a734eefe7f0455f711deb\n",
      "Successfully built requests-ftp\n",
      "Installing collected packages: requests-ftp, requests-file, pandas-datareader\n",
      "Successfully installed pandas-datareader-0.3.0.post0 requests-file-1.4.1 requests-ftp-0.3.1\n"
     ]
    }
   ],
   "source": [
    "!pip install pandas_datareader"
   ]
  },
  {
   "cell_type": "code",
   "execution_count": 3,
   "metadata": {
    "collapsed": false
   },
   "outputs": [],
   "source": [
    "import pandas_datareader"
   ]
  },
  {
   "cell_type": "code",
   "execution_count": 10,
   "metadata": {
    "collapsed": true
   },
   "outputs": [],
   "source": [
    "import datetime\n",
    "back_then = datetime.datetime.now() - datetime.timedelta(days=14)\n",
    "recently = datetime.datetime.now() - datetime.timedelta(days=7)"
   ]
  },
  {
   "cell_type": "code",
   "execution_count": 12,
   "metadata": {
    "collapsed": false
   },
   "outputs": [
    {
     "data": {
      "text/html": [
       "<div>\n",
       "<table border=\"1\" class=\"dataframe\">\n",
       "  <thead>\n",
       "    <tr style=\"text-align: right;\">\n",
       "      <th></th>\n",
       "      <th>Open</th>\n",
       "      <th>High</th>\n",
       "      <th>Low</th>\n",
       "      <th>Close</th>\n",
       "      <th>Volume</th>\n",
       "      <th>Adj Close</th>\n",
       "    </tr>\n",
       "    <tr>\n",
       "      <th>Date</th>\n",
       "      <th></th>\n",
       "      <th></th>\n",
       "      <th></th>\n",
       "      <th></th>\n",
       "      <th></th>\n",
       "      <th></th>\n",
       "    </tr>\n",
       "  </thead>\n",
       "  <tbody>\n",
       "    <tr>\n",
       "      <th>2017-02-16</th>\n",
       "      <td>135.669998</td>\n",
       "      <td>135.899994</td>\n",
       "      <td>134.839996</td>\n",
       "      <td>135.350006</td>\n",
       "      <td>22118000</td>\n",
       "      <td>135.350006</td>\n",
       "    </tr>\n",
       "    <tr>\n",
       "      <th>2017-02-17</th>\n",
       "      <td>135.100006</td>\n",
       "      <td>135.830002</td>\n",
       "      <td>135.100006</td>\n",
       "      <td>135.720001</td>\n",
       "      <td>22084500</td>\n",
       "      <td>135.720001</td>\n",
       "    </tr>\n",
       "    <tr>\n",
       "      <th>2017-02-21</th>\n",
       "      <td>136.229996</td>\n",
       "      <td>136.750000</td>\n",
       "      <td>135.979996</td>\n",
       "      <td>136.699997</td>\n",
       "      <td>24265100</td>\n",
       "      <td>136.699997</td>\n",
       "    </tr>\n",
       "    <tr>\n",
       "      <th>2017-02-22</th>\n",
       "      <td>136.429993</td>\n",
       "      <td>137.119995</td>\n",
       "      <td>136.110001</td>\n",
       "      <td>137.110001</td>\n",
       "      <td>20745300</td>\n",
       "      <td>137.110001</td>\n",
       "    </tr>\n",
       "    <tr>\n",
       "      <th>2017-02-23</th>\n",
       "      <td>137.380005</td>\n",
       "      <td>137.479996</td>\n",
       "      <td>136.300003</td>\n",
       "      <td>136.529999</td>\n",
       "      <td>20704100</td>\n",
       "      <td>136.529999</td>\n",
       "    </tr>\n",
       "  </tbody>\n",
       "</table>\n",
       "</div>"
      ],
      "text/plain": [
       "                  Open        High         Low       Close    Volume  \\\n",
       "Date                                                                   \n",
       "2017-02-16  135.669998  135.899994  134.839996  135.350006  22118000   \n",
       "2017-02-17  135.100006  135.830002  135.100006  135.720001  22084500   \n",
       "2017-02-21  136.229996  136.750000  135.979996  136.699997  24265100   \n",
       "2017-02-22  136.429993  137.119995  136.110001  137.110001  20745300   \n",
       "2017-02-23  137.380005  137.479996  136.300003  136.529999  20704100   \n",
       "\n",
       "             Adj Close  \n",
       "Date                    \n",
       "2017-02-16  135.350006  \n",
       "2017-02-17  135.720001  \n",
       "2017-02-21  136.699997  \n",
       "2017-02-22  137.110001  \n",
       "2017-02-23  136.529999  "
      ]
     },
     "execution_count": 12,
     "metadata": {},
     "output_type": "execute_result"
    }
   ],
   "source": [
    "pandas_datareader.data.DataReader('AAPL', 'yahoo', back_then, recently)"
   ]
  },
  {
   "cell_type": "code",
   "execution_count": 2,
   "metadata": {
    "collapsed": false
   },
   "outputs": [
    {
     "ename": "NameError",
     "evalue": "name 'pandas_datareader' is not defined",
     "output_type": "error",
     "traceback": [
      "\u001b[0;31m---------------------------------------------------------------------------\u001b[0m",
      "\u001b[0;31mNameError\u001b[0m                                 Traceback (most recent call last)",
      "\u001b[0;32m<ipython-input-2-b2c5daa4d0c2>\u001b[0m in \u001b[0;36m<module>\u001b[0;34m()\u001b[0m\n\u001b[0;32m----> 1\u001b[0;31m \u001b[0mpandas_datareader\u001b[0m\u001b[0;34m.\u001b[0m\u001b[0mdata\u001b[0m\u001b[0;34m.\u001b[0m\u001b[0mDataReader\u001b[0m\u001b[0;34m(\u001b[0m\u001b[0;34m'WBC.AX'\u001b[0m\u001b[0;34m,\u001b[0m \u001b[0;34m'yahoo'\u001b[0m\u001b[0;34m,\u001b[0m \u001b[0mback_then\u001b[0m\u001b[0;34m,\u001b[0m \u001b[0mrecently\u001b[0m\u001b[0;34m)\u001b[0m\u001b[0;34m\u001b[0m\u001b[0m\n\u001b[0m",
      "\u001b[0;31mNameError\u001b[0m: name 'pandas_datareader' is not defined"
     ]
    }
   ],
   "source": [
    "pandas_datareader.data.DataReader('WBC.AX', 'yahoo', back_then, recently)"
   ]
  },
  {
   "cell_type": "code",
   "execution_count": 15,
   "metadata": {
    "collapsed": false
   },
   "outputs": [
    {
     "data": {
      "text/html": [
       "<div>\n",
       "<table border=\"1\" class=\"dataframe\">\n",
       "  <thead>\n",
       "    <tr style=\"text-align: right;\">\n",
       "      <th></th>\n",
       "      <th>Open</th>\n",
       "      <th>High</th>\n",
       "      <th>Low</th>\n",
       "      <th>Close</th>\n",
       "      <th>Volume</th>\n",
       "      <th>Adj Close</th>\n",
       "    </tr>\n",
       "    <tr>\n",
       "      <th>Date</th>\n",
       "      <th></th>\n",
       "      <th></th>\n",
       "      <th></th>\n",
       "      <th></th>\n",
       "      <th></th>\n",
       "      <th></th>\n",
       "    </tr>\n",
       "  </thead>\n",
       "  <tbody>\n",
       "    <tr>\n",
       "      <th>2017-02-16</th>\n",
       "      <td>85.15</td>\n",
       "      <td>85.15</td>\n",
       "      <td>84.42</td>\n",
       "      <td>85.08</td>\n",
       "      <td>3781700</td>\n",
       "      <td>82.26555</td>\n",
       "    </tr>\n",
       "    <tr>\n",
       "      <th>2017-02-17</th>\n",
       "      <td>85.20</td>\n",
       "      <td>85.50</td>\n",
       "      <td>85.16</td>\n",
       "      <td>85.39</td>\n",
       "      <td>3780300</td>\n",
       "      <td>82.56529</td>\n",
       "    </tr>\n",
       "    <tr>\n",
       "      <th>2017-02-20</th>\n",
       "      <td>85.40</td>\n",
       "      <td>85.98</td>\n",
       "      <td>85.21</td>\n",
       "      <td>85.91</td>\n",
       "      <td>2384400</td>\n",
       "      <td>83.06810</td>\n",
       "    </tr>\n",
       "    <tr>\n",
       "      <th>2017-02-21</th>\n",
       "      <td>85.96</td>\n",
       "      <td>86.09</td>\n",
       "      <td>85.61</td>\n",
       "      <td>85.94</td>\n",
       "      <td>3305300</td>\n",
       "      <td>83.09710</td>\n",
       "    </tr>\n",
       "    <tr>\n",
       "      <th>2017-02-22</th>\n",
       "      <td>83.82</td>\n",
       "      <td>83.90</td>\n",
       "      <td>83.33</td>\n",
       "      <td>83.71</td>\n",
       "      <td>7963900</td>\n",
       "      <td>83.71000</td>\n",
       "    </tr>\n",
       "    <tr>\n",
       "      <th>2017-02-23</th>\n",
       "      <td>83.60</td>\n",
       "      <td>83.78</td>\n",
       "      <td>83.26</td>\n",
       "      <td>83.48</td>\n",
       "      <td>3228400</td>\n",
       "      <td>83.48000</td>\n",
       "    </tr>\n",
       "  </tbody>\n",
       "</table>\n",
       "</div>"
      ],
      "text/plain": [
       "             Open   High    Low  Close   Volume  Adj Close\n",
       "Date                                                      \n",
       "2017-02-16  85.15  85.15  84.42  85.08  3781700   82.26555\n",
       "2017-02-17  85.20  85.50  85.16  85.39  3780300   82.56529\n",
       "2017-02-20  85.40  85.98  85.21  85.91  2384400   83.06810\n",
       "2017-02-21  85.96  86.09  85.61  85.94  3305300   83.09710\n",
       "2017-02-22  83.82  83.90  83.33  83.71  7963900   83.71000\n",
       "2017-02-23  83.60  83.78  83.26  83.48  3228400   83.48000"
      ]
     },
     "execution_count": 15,
     "metadata": {},
     "output_type": "execute_result"
    }
   ],
   "source": [
    "pandas_datareader.data.DataReader('CBA.AX', 'yahoo', back_then, recently)"
   ]
  },
  {
   "cell_type": "code",
   "execution_count": 21,
   "metadata": {
    "collapsed": false
   },
   "outputs": [
    {
     "data": {
      "text/plain": [
       "Date\n",
       "2017-02-16    0.770648\n",
       "2017-02-17    0.768368\n",
       "2017-02-18    0.766948\n",
       "2017-02-19    0.766948\n",
       "2017-02-20    0.767619\n",
       "2017-02-21    0.767112\n",
       "2017-02-22    0.768758\n",
       "2017-02-23    0.770173\n",
       "Name: AUD/USD, dtype: float64"
      ]
     },
     "execution_count": 21,
     "metadata": {},
     "output_type": "execute_result"
    }
   ],
   "source": [
    "pandas_datareader.oanda.get_oanda_currency_historical_rates(\n",
    "    back_then,\n",
    "    recently,\n",
    "    base_currency='AUD',\n",
    "    quote_currency='USD'\n",
    ")"
   ]
  },
  {
   "cell_type": "code",
   "execution_count": 23,
   "metadata": {
    "collapsed": false
   },
   "outputs": [
    {
     "data": {
      "text/html": [
       "<div>\n",
       "<table border=\"1\" class=\"dataframe\">\n",
       "  <thead>\n",
       "    <tr style=\"text-align: right;\">\n",
       "      <th></th>\n",
       "      <th>LRUNTTTTAUM156S</th>\n",
       "    </tr>\n",
       "    <tr>\n",
       "      <th>DATE</th>\n",
       "      <th></th>\n",
       "    </tr>\n",
       "  </thead>\n",
       "  <tbody>\n",
       "    <tr>\n",
       "      <th>2010-01-01</th>\n",
       "      <td>5.283971</td>\n",
       "    </tr>\n",
       "    <tr>\n",
       "      <th>2010-02-01</th>\n",
       "      <td>5.303974</td>\n",
       "    </tr>\n",
       "    <tr>\n",
       "      <th>2010-03-01</th>\n",
       "      <td>5.400792</td>\n",
       "    </tr>\n",
       "    <tr>\n",
       "      <th>2010-04-01</th>\n",
       "      <td>5.484988</td>\n",
       "    </tr>\n",
       "    <tr>\n",
       "      <th>2010-05-01</th>\n",
       "      <td>5.207073</td>\n",
       "    </tr>\n",
       "    <tr>\n",
       "      <th>2010-06-01</th>\n",
       "      <td>5.152370</td>\n",
       "    </tr>\n",
       "    <tr>\n",
       "      <th>2010-07-01</th>\n",
       "      <td>5.304349</td>\n",
       "    </tr>\n",
       "    <tr>\n",
       "      <th>2010-08-01</th>\n",
       "      <td>5.017111</td>\n",
       "    </tr>\n",
       "    <tr>\n",
       "      <th>2010-09-01</th>\n",
       "      <td>5.080958</td>\n",
       "    </tr>\n",
       "    <tr>\n",
       "      <th>2010-10-01</th>\n",
       "      <td>5.256133</td>\n",
       "    </tr>\n",
       "    <tr>\n",
       "      <th>2010-11-01</th>\n",
       "      <td>5.101248</td>\n",
       "    </tr>\n",
       "    <tr>\n",
       "      <th>2010-12-01</th>\n",
       "      <td>4.871744</td>\n",
       "    </tr>\n",
       "    <tr>\n",
       "      <th>2011-01-01</th>\n",
       "      <td>5.050088</td>\n",
       "    </tr>\n",
       "    <tr>\n",
       "      <th>2011-02-01</th>\n",
       "      <td>4.983605</td>\n",
       "    </tr>\n",
       "    <tr>\n",
       "      <th>2011-03-01</th>\n",
       "      <td>4.902334</td>\n",
       "    </tr>\n",
       "    <tr>\n",
       "      <th>2011-04-01</th>\n",
       "      <td>4.966852</td>\n",
       "    </tr>\n",
       "    <tr>\n",
       "      <th>2011-05-01</th>\n",
       "      <td>5.001220</td>\n",
       "    </tr>\n",
       "    <tr>\n",
       "      <th>2011-06-01</th>\n",
       "      <td>4.938730</td>\n",
       "    </tr>\n",
       "    <tr>\n",
       "      <th>2011-07-01</th>\n",
       "      <td>5.099505</td>\n",
       "    </tr>\n",
       "    <tr>\n",
       "      <th>2011-08-01</th>\n",
       "      <td>5.228134</td>\n",
       "    </tr>\n",
       "    <tr>\n",
       "      <th>2011-09-01</th>\n",
       "      <td>5.251642</td>\n",
       "    </tr>\n",
       "    <tr>\n",
       "      <th>2011-10-01</th>\n",
       "      <td>5.139791</td>\n",
       "    </tr>\n",
       "    <tr>\n",
       "      <th>2011-11-01</th>\n",
       "      <td>5.223193</td>\n",
       "    </tr>\n",
       "    <tr>\n",
       "      <th>2011-12-01</th>\n",
       "      <td>5.179076</td>\n",
       "    </tr>\n",
       "    <tr>\n",
       "      <th>2012-01-01</th>\n",
       "      <td>5.093898</td>\n",
       "    </tr>\n",
       "    <tr>\n",
       "      <th>2012-02-01</th>\n",
       "      <td>5.208159</td>\n",
       "    </tr>\n",
       "    <tr>\n",
       "      <th>2012-03-01</th>\n",
       "      <td>5.159441</td>\n",
       "    </tr>\n",
       "    <tr>\n",
       "      <th>2012-04-01</th>\n",
       "      <td>5.021668</td>\n",
       "    </tr>\n",
       "    <tr>\n",
       "      <th>2012-05-01</th>\n",
       "      <td>5.193131</td>\n",
       "    </tr>\n",
       "    <tr>\n",
       "      <th>2012-06-01</th>\n",
       "      <td>5.185336</td>\n",
       "    </tr>\n",
       "    <tr>\n",
       "      <th>...</th>\n",
       "      <td>...</td>\n",
       "    </tr>\n",
       "    <tr>\n",
       "      <th>2012-09-01</th>\n",
       "      <td>5.511863</td>\n",
       "    </tr>\n",
       "    <tr>\n",
       "      <th>2012-10-01</th>\n",
       "      <td>5.357500</td>\n",
       "    </tr>\n",
       "    <tr>\n",
       "      <th>2012-11-01</th>\n",
       "      <td>5.244781</td>\n",
       "    </tr>\n",
       "    <tr>\n",
       "      <th>2012-12-01</th>\n",
       "      <td>5.403764</td>\n",
       "    </tr>\n",
       "    <tr>\n",
       "      <th>2013-01-01</th>\n",
       "      <td>5.449247</td>\n",
       "    </tr>\n",
       "    <tr>\n",
       "      <th>2013-02-01</th>\n",
       "      <td>5.408903</td>\n",
       "    </tr>\n",
       "    <tr>\n",
       "      <th>2013-03-01</th>\n",
       "      <td>5.613157</td>\n",
       "    </tr>\n",
       "    <tr>\n",
       "      <th>2013-04-01</th>\n",
       "      <td>5.632798</td>\n",
       "    </tr>\n",
       "    <tr>\n",
       "      <th>2013-05-01</th>\n",
       "      <td>5.604857</td>\n",
       "    </tr>\n",
       "    <tr>\n",
       "      <th>2013-06-01</th>\n",
       "      <td>5.712661</td>\n",
       "    </tr>\n",
       "    <tr>\n",
       "      <th>2013-07-01</th>\n",
       "      <td>5.626762</td>\n",
       "    </tr>\n",
       "    <tr>\n",
       "      <th>2013-08-01</th>\n",
       "      <td>5.752849</td>\n",
       "    </tr>\n",
       "    <tr>\n",
       "      <th>2013-09-01</th>\n",
       "      <td>5.718885</td>\n",
       "    </tr>\n",
       "    <tr>\n",
       "      <th>2013-10-01</th>\n",
       "      <td>5.753900</td>\n",
       "    </tr>\n",
       "    <tr>\n",
       "      <th>2013-11-01</th>\n",
       "      <td>5.780179</td>\n",
       "    </tr>\n",
       "    <tr>\n",
       "      <th>2013-12-01</th>\n",
       "      <td>5.907372</td>\n",
       "    </tr>\n",
       "    <tr>\n",
       "      <th>2014-01-01</th>\n",
       "      <td>5.984792</td>\n",
       "    </tr>\n",
       "    <tr>\n",
       "      <th>2014-02-01</th>\n",
       "      <td>5.927436</td>\n",
       "    </tr>\n",
       "    <tr>\n",
       "      <th>2014-03-01</th>\n",
       "      <td>5.846194</td>\n",
       "    </tr>\n",
       "    <tr>\n",
       "      <th>2014-04-01</th>\n",
       "      <td>5.896128</td>\n",
       "    </tr>\n",
       "    <tr>\n",
       "      <th>2014-05-01</th>\n",
       "      <td>5.938805</td>\n",
       "    </tr>\n",
       "    <tr>\n",
       "      <th>2014-06-01</th>\n",
       "      <td>6.054598</td>\n",
       "    </tr>\n",
       "    <tr>\n",
       "      <th>2014-07-01</th>\n",
       "      <td>6.150665</td>\n",
       "    </tr>\n",
       "    <tr>\n",
       "      <th>2014-08-01</th>\n",
       "      <td>6.064593</td>\n",
       "    </tr>\n",
       "    <tr>\n",
       "      <th>2014-09-01</th>\n",
       "      <td>6.205239</td>\n",
       "    </tr>\n",
       "    <tr>\n",
       "      <th>2014-10-01</th>\n",
       "      <td>6.285227</td>\n",
       "    </tr>\n",
       "    <tr>\n",
       "      <th>2014-11-01</th>\n",
       "      <td>6.264956</td>\n",
       "    </tr>\n",
       "    <tr>\n",
       "      <th>2014-12-01</th>\n",
       "      <td>6.110808</td>\n",
       "    </tr>\n",
       "    <tr>\n",
       "      <th>2015-01-01</th>\n",
       "      <td>6.380561</td>\n",
       "    </tr>\n",
       "    <tr>\n",
       "      <th>2015-02-01</th>\n",
       "      <td>6.253563</td>\n",
       "    </tr>\n",
       "  </tbody>\n",
       "</table>\n",
       "<p>62 rows × 1 columns</p>\n",
       "</div>"
      ],
      "text/plain": [
       "            LRUNTTTTAUM156S\n",
       "DATE                       \n",
       "2010-01-01         5.283971\n",
       "2010-02-01         5.303974\n",
       "2010-03-01         5.400792\n",
       "2010-04-01         5.484988\n",
       "2010-05-01         5.207073\n",
       "2010-06-01         5.152370\n",
       "2010-07-01         5.304349\n",
       "2010-08-01         5.017111\n",
       "2010-09-01         5.080958\n",
       "2010-10-01         5.256133\n",
       "2010-11-01         5.101248\n",
       "2010-12-01         4.871744\n",
       "2011-01-01         5.050088\n",
       "2011-02-01         4.983605\n",
       "2011-03-01         4.902334\n",
       "2011-04-01         4.966852\n",
       "2011-05-01         5.001220\n",
       "2011-06-01         4.938730\n",
       "2011-07-01         5.099505\n",
       "2011-08-01         5.228134\n",
       "2011-09-01         5.251642\n",
       "2011-10-01         5.139791\n",
       "2011-11-01         5.223193\n",
       "2011-12-01         5.179076\n",
       "2012-01-01         5.093898\n",
       "2012-02-01         5.208159\n",
       "2012-03-01         5.159441\n",
       "2012-04-01         5.021668\n",
       "2012-05-01         5.193131\n",
       "2012-06-01         5.185336\n",
       "...                     ...\n",
       "2012-09-01         5.511863\n",
       "2012-10-01         5.357500\n",
       "2012-11-01         5.244781\n",
       "2012-12-01         5.403764\n",
       "2013-01-01         5.449247\n",
       "2013-02-01         5.408903\n",
       "2013-03-01         5.613157\n",
       "2013-04-01         5.632798\n",
       "2013-05-01         5.604857\n",
       "2013-06-01         5.712661\n",
       "2013-07-01         5.626762\n",
       "2013-08-01         5.752849\n",
       "2013-09-01         5.718885\n",
       "2013-10-01         5.753900\n",
       "2013-11-01         5.780179\n",
       "2013-12-01         5.907372\n",
       "2014-01-01         5.984792\n",
       "2014-02-01         5.927436\n",
       "2014-03-01         5.846194\n",
       "2014-04-01         5.896128\n",
       "2014-05-01         5.938805\n",
       "2014-06-01         6.054598\n",
       "2014-07-01         6.150665\n",
       "2014-08-01         6.064593\n",
       "2014-09-01         6.205239\n",
       "2014-10-01         6.285227\n",
       "2014-11-01         6.264956\n",
       "2014-12-01         6.110808\n",
       "2015-01-01         6.380561\n",
       "2015-02-01         6.253563\n",
       "\n",
       "[62 rows x 1 columns]"
      ]
     },
     "execution_count": 23,
     "metadata": {},
     "output_type": "execute_result"
    }
   ],
   "source": [
    "pandas_datareader.data.DataReader('LRUNTTTTAUM156S', 'fred')"
   ]
  },
  {
   "cell_type": "code",
   "execution_count": 26,
   "metadata": {
    "collapsed": false
   },
   "outputs": [
    {
     "data": {
      "text/plain": [
       "<matplotlib.axes._subplots.AxesSubplot at 0x117fb0ef0>"
      ]
     },
     "execution_count": 26,
     "metadata": {},
     "output_type": "execute_result"
    },
    {
     "data": {
      "image/png": "[encoded data removed]",
      "text/plain": [
       "<matplotlib.figure.Figure at 0x118275e10>"
      ]
     },
     "metadata": {},
     "output_type": "display_data"
    }
   ],
   "source": [
    "%matplotlib inline\n",
    "pandas_datareader.data.DataReader('LRUNTTTTAUM156S', 'fred',\n",
    "                                  datetime.datetime(1960,1,1),\n",
    "                                  datetime.datetime.now()\n",
    "                                 ).plot()"
   ]
  },
  {
   "cell_type": "code",
   "execution_count": 38,
   "metadata": {
    "collapsed": false
   },
   "outputs": [
    {
     "data": {
      "text/plain": [
       "<matplotlib.axes._subplots.AxesSubplot at 0x118769240>"
      ]
     },
     "execution_count": 38,
     "metadata": {},
     "output_type": "execute_result"
    },
    {
     "data": {
      "image/png": "[encoded data removed]",
      "text/plain": [
       "<matplotlib.figure.Figure at 0x118769cc0>"
      ]
     },
     "metadata": {},
     "output_type": "display_data"
    }
   ],
   "source": [
    "import pandas_datareader.wb\n",
    "pandas_datareader.wb.download(indicator='SP.RUR.TOTL.ZS', \n",
    "                              country=['AD'],\n",
    "                              start=1960, end=2015).sort_index().plot()"
   ]
  },
  {
   "cell_type": "code",
   "execution_count": 8,
   "metadata": {
    "collapsed": false
   },
   "outputs": [
    {
     "data": {
      "text/html": [
       "<div>\n",
       "<table border=\"1\" class=\"dataframe\">\n",
       "  <thead>\n",
       "    <tr style=\"text-align: right;\">\n",
       "      <th></th>\n",
       "      <th>SP.RUR.TOTL.ZS</th>\n",
       "    </tr>\n",
       "    <tr>\n",
       "      <th>year</th>\n",
       "      <th></th>\n",
       "    </tr>\n",
       "  </thead>\n",
       "  <tbody>\n",
       "    <tr>\n",
       "      <th>1960</th>\n",
       "      <td>41.550</td>\n",
       "    </tr>\n",
       "    <tr>\n",
       "      <th>1961</th>\n",
       "      <td>39.017</td>\n",
       "    </tr>\n",
       "    <tr>\n",
       "      <th>1962</th>\n",
       "      <td>36.538</td>\n",
       "    </tr>\n",
       "    <tr>\n",
       "      <th>1963</th>\n",
       "      <td>34.128</td>\n",
       "    </tr>\n",
       "    <tr>\n",
       "      <th>1964</th>\n",
       "      <td>31.795</td>\n",
       "    </tr>\n",
       "    <tr>\n",
       "      <th>1965</th>\n",
       "      <td>29.555</td>\n",
       "    </tr>\n",
       "    <tr>\n",
       "      <th>1966</th>\n",
       "      <td>27.407</td>\n",
       "    </tr>\n",
       "    <tr>\n",
       "      <th>1967</th>\n",
       "      <td>25.359</td>\n",
       "    </tr>\n",
       "    <tr>\n",
       "      <th>1968</th>\n",
       "      <td>23.412</td>\n",
       "    </tr>\n",
       "    <tr>\n",
       "      <th>1969</th>\n",
       "      <td>21.576</td>\n",
       "    </tr>\n",
       "    <tr>\n",
       "      <th>1970</th>\n",
       "      <td>19.845</td>\n",
       "    </tr>\n",
       "    <tr>\n",
       "      <th>1971</th>\n",
       "      <td>18.220</td>\n",
       "    </tr>\n",
       "    <tr>\n",
       "      <th>1972</th>\n",
       "      <td>16.699</td>\n",
       "    </tr>\n",
       "    <tr>\n",
       "      <th>1973</th>\n",
       "      <td>15.284</td>\n",
       "    </tr>\n",
       "    <tr>\n",
       "      <th>1974</th>\n",
       "      <td>13.968</td>\n",
       "    </tr>\n",
       "    <tr>\n",
       "      <th>1975</th>\n",
       "      <td>12.748</td>\n",
       "    </tr>\n",
       "    <tr>\n",
       "      <th>1976</th>\n",
       "      <td>11.618</td>\n",
       "    </tr>\n",
       "    <tr>\n",
       "      <th>1977</th>\n",
       "      <td>10.580</td>\n",
       "    </tr>\n",
       "    <tr>\n",
       "      <th>1978</th>\n",
       "      <td>9.622</td>\n",
       "    </tr>\n",
       "    <tr>\n",
       "      <th>1979</th>\n",
       "      <td>8.743</td>\n",
       "    </tr>\n",
       "    <tr>\n",
       "      <th>1980</th>\n",
       "      <td>7.936</td>\n",
       "    </tr>\n",
       "    <tr>\n",
       "      <th>1981</th>\n",
       "      <td>7.200</td>\n",
       "    </tr>\n",
       "    <tr>\n",
       "      <th>1982</th>\n",
       "      <td>6.526</td>\n",
       "    </tr>\n",
       "    <tr>\n",
       "      <th>1983</th>\n",
       "      <td>5.911</td>\n",
       "    </tr>\n",
       "    <tr>\n",
       "      <th>1984</th>\n",
       "      <td>5.351</td>\n",
       "    </tr>\n",
       "    <tr>\n",
       "      <th>1985</th>\n",
       "      <td>4.841</td>\n",
       "    </tr>\n",
       "    <tr>\n",
       "      <th>1986</th>\n",
       "      <td>4.675</td>\n",
       "    </tr>\n",
       "    <tr>\n",
       "      <th>1987</th>\n",
       "      <td>4.822</td>\n",
       "    </tr>\n",
       "    <tr>\n",
       "      <th>1988</th>\n",
       "      <td>4.973</td>\n",
       "    </tr>\n",
       "    <tr>\n",
       "      <th>1989</th>\n",
       "      <td>5.128</td>\n",
       "    </tr>\n",
       "    <tr>\n",
       "      <th>1990</th>\n",
       "      <td>5.288</td>\n",
       "    </tr>\n",
       "    <tr>\n",
       "      <th>1991</th>\n",
       "      <td>5.470</td>\n",
       "    </tr>\n",
       "    <tr>\n",
       "      <th>1992</th>\n",
       "      <td>5.676</td>\n",
       "    </tr>\n",
       "    <tr>\n",
       "      <th>1993</th>\n",
       "      <td>5.889</td>\n",
       "    </tr>\n",
       "    <tr>\n",
       "      <th>1994</th>\n",
       "      <td>6.110</td>\n",
       "    </tr>\n",
       "    <tr>\n",
       "      <th>1995</th>\n",
       "      <td>6.339</td>\n",
       "    </tr>\n",
       "    <tr>\n",
       "      <th>1996</th>\n",
       "      <td>6.575</td>\n",
       "    </tr>\n",
       "    <tr>\n",
       "      <th>1997</th>\n",
       "      <td>6.820</td>\n",
       "    </tr>\n",
       "    <tr>\n",
       "      <th>1998</th>\n",
       "      <td>7.073</td>\n",
       "    </tr>\n",
       "    <tr>\n",
       "      <th>1999</th>\n",
       "      <td>7.334</td>\n",
       "    </tr>\n",
       "    <tr>\n",
       "      <th>2000</th>\n",
       "      <td>7.605</td>\n",
       "    </tr>\n",
       "    <tr>\n",
       "      <th>2001</th>\n",
       "      <td>7.944</td>\n",
       "    </tr>\n",
       "    <tr>\n",
       "      <th>2002</th>\n",
       "      <td>8.359</td>\n",
       "    </tr>\n",
       "    <tr>\n",
       "      <th>2003</th>\n",
       "      <td>8.793</td>\n",
       "    </tr>\n",
       "    <tr>\n",
       "      <th>2004</th>\n",
       "      <td>9.249</td>\n",
       "    </tr>\n",
       "    <tr>\n",
       "      <th>2005</th>\n",
       "      <td>9.705</td>\n",
       "    </tr>\n",
       "    <tr>\n",
       "      <th>2006</th>\n",
       "      <td>10.162</td>\n",
       "    </tr>\n",
       "    <tr>\n",
       "      <th>2007</th>\n",
       "      <td>10.637</td>\n",
       "    </tr>\n",
       "    <tr>\n",
       "      <th>2008</th>\n",
       "      <td>11.133</td>\n",
       "    </tr>\n",
       "    <tr>\n",
       "      <th>2009</th>\n",
       "      <td>11.648</td>\n",
       "    </tr>\n",
       "    <tr>\n",
       "      <th>2010</th>\n",
       "      <td>12.183</td>\n",
       "    </tr>\n",
       "    <tr>\n",
       "      <th>2011</th>\n",
       "      <td>12.740</td>\n",
       "    </tr>\n",
       "    <tr>\n",
       "      <th>2012</th>\n",
       "      <td>13.292</td>\n",
       "    </tr>\n",
       "    <tr>\n",
       "      <th>2013</th>\n",
       "      <td>13.835</td>\n",
       "    </tr>\n",
       "    <tr>\n",
       "      <th>2014</th>\n",
       "      <td>14.367</td>\n",
       "    </tr>\n",
       "    <tr>\n",
       "      <th>2015</th>\n",
       "      <td>14.885</td>\n",
       "    </tr>\n",
       "  </tbody>\n",
       "</table>\n",
       "</div>"
      ],
      "text/plain": [
       "      SP.RUR.TOTL.ZS\n",
       "year                \n",
       "1960          41.550\n",
       "1961          39.017\n",
       "1962          36.538\n",
       "1963          34.128\n",
       "1964          31.795\n",
       "1965          29.555\n",
       "1966          27.407\n",
       "1967          25.359\n",
       "1968          23.412\n",
       "1969          21.576\n",
       "1970          19.845\n",
       "1971          18.220\n",
       "1972          16.699\n",
       "1973          15.284\n",
       "1974          13.968\n",
       "1975          12.748\n",
       "1976          11.618\n",
       "1977          10.580\n",
       "1978           9.622\n",
       "1979           8.743\n",
       "1980           7.936\n",
       "1981           7.200\n",
       "1982           6.526\n",
       "1983           5.911\n",
       "1984           5.351\n",
       "1985           4.841\n",
       "1986           4.675\n",
       "1987           4.822\n",
       "1988           4.973\n",
       "1989           5.128\n",
       "1990           5.288\n",
       "1991           5.470\n",
       "1992           5.676\n",
       "1993           5.889\n",
       "1994           6.110\n",
       "1995           6.339\n",
       "1996           6.575\n",
       "1997           6.820\n",
       "1998           7.073\n",
       "1999           7.334\n",
       "2000           7.605\n",
       "2001           7.944\n",
       "2002           8.359\n",
       "2003           8.793\n",
       "2004           9.249\n",
       "2005           9.705\n",
       "2006          10.162\n",
       "2007          10.637\n",
       "2008          11.133\n",
       "2009          11.648\n",
       "2010          12.183\n",
       "2011          12.740\n",
       "2012          13.292\n",
       "2013          13.835\n",
       "2014          14.367\n",
       "2015          14.885"
      ]
     },
     "execution_count": 8,
     "metadata": {},
     "output_type": "execute_result"
    }
   ],
   "source": [
    "import pandas_datareader.wb\n",
    "rural = pandas_datareader.wb.download(indicator='SP.RUR.TOTL.ZS', \n",
    "                              country=['AD'],\n",
    "                              start=1960, end=2015)\n",
    "rural.reset_index(inplace=True)\n",
    "rural.set_index('year', inplace=True)\n",
    "del rural['country']\n",
    "rural.sort_index(inplace=True)\n",
    "rural"
   ]
  },
  {
   "cell_type": "code",
   "execution_count": 10,
   "metadata": {
    "collapsed": false
   },
   "outputs": [
    {
     "data": {
      "text/plain": [
       "<matplotlib.axes._subplots.AxesSubplot at 0x1180ee898>"
      ]
     },
     "execution_count": 10,
     "metadata": {},
     "output_type": "execute_result"
    },
    {
     "data": {
      "image/png": "[encoded data removed]",
      "text/plain": [
       "<matplotlib.figure.Figure at 0x11816a518>"
      ]
     },
     "metadata": {},
     "output_type": "display_data"
    }
   ],
   "source": [
    "%matplotlib inline\n",
    "rural.plot()"
   ]
  },
  {
   "cell_type": "code",
   "execution_count": 11,
   "metadata": {
    "collapsed": true
   },
   "outputs": [],
   "source": [
    "import requests"
   ]
  },
  {
   "cell_type": "code",
   "execution_count": 12,
   "metadata": {
    "collapsed": true
   },
   "outputs": [],
   "source": [
    "url = 'https://en.m.wikipedia.org/wiki/Main_Page'"
   ]
  },
  {
   "cell_type": "code",
   "execution_count": 13,
   "metadata": {
    "collapsed": true
   },
   "outputs": [],
   "source": [
    "r = requests.get(url)"
   ]
  },
  {
   "cell_type": "code",
   "execution_count": 14,
   "metadata": {
    "collapsed": false
   },
   "outputs": [
    {
     "data": {
      "text/plain": [
       "200"
      ]
     },
     "execution_count": 14,
     "metadata": {},
     "output_type": "execute_result"
    }
   ],
   "source": [
    "r.status_code"
   ]
  },
  {
   "cell_type": "code",
   "execution_count": 16,
   "metadata": {
    "collapsed": false
   },
   "outputs": [],
   "source": [
    "import bs4\n",
    "soup = bs4.BeautifulSoup(r.text, 'lxml')"
   ]
  },
  {
   "cell_type": "code",
   "execution_count": 17,
   "metadata": {
    "collapsed": false
   },
   "outputs": [
    {
     "data": {
      "text/plain": [
       "<!DOCTYPE html>\n",
       "<html class=\"client-nojs\" dir=\"ltr\" lang=\"en\">\n",
       "<head>\n",
       "<meta charset=\"utf-8\"/>\n",
       "<title>Wikipedia, the free encyclopedia</title>\n",
       "<script>document.documentElement.className = document.documentElement.className.replace( /(^|\\s)client-nojs(\\s|$)/, \"$1client-js$2\" );</script>\n",
       "<script>(window.RLQ=window.RLQ||[]).push(function(){mw.config.set({\"wgCanonicalNamespace\":\"\",\"wgCanonicalSpecialPageName\":false,\"wgNamespaceNumber\":0,\"wgPageName\":\"Main_Page\",\"wgTitle\":\"Main Page\",\"wgCurRevisionId\":762066868,\"wgRevisionId\":762066868,\"wgArticleId\":15580374,\"wgIsArticle\":true,\"wgIsRedirect\":false,\"wgAction\":\"view\",\"wgUserName\":null,\"wgUserGroups\":[\"*\"],\"wgBreakFrames\":false,\"wgPageContentLanguage\":\"en\",\"wgPageContentModel\":\"wikitext\",\"wgSeparatorTransformTable\":[\"\",\"\"],\"wgDigitTransformTable\":[\"\",\"\"],\"wgDefaultDateFormat\":\"dmy\",\"wgMonthNames\":[\"\",\"January\",\"February\",\"March\",\"April\",\"May\",\"June\",\"July\",\"August\",\"September\",\"October\",\"November\",\"December\"],\"wgMonthNamesShort\":[\"\",\"Jan\",\"Feb\",\"Mar\",\"Apr\",\"May\",\"Jun\",\"Jul\",\"Aug\",\"Sep\",\"Oct\",\"Nov\",\"Dec\"],\"wgRelevantPageName\":\"Main_Page\",\"wgRelevantArticleId\":15580374,\"wgRequestId\":\"WLfb7ApAIDYAAGVwsCEAAABL\",\"wgIsProbablyEditable\":false,\"wgRestrictionEdit\":[\"sysop\"],\"wgRestrictionMove\":[\"sysop\"],\"wgIsMainPage\":true,\"wgFlaggedRevsParams\":{\"tags\":{}},\"wgStableRevisionId\":null,\"wgWikiEditorEnabledModules\":{\"toolbar\":true,\"dialogs\":true,\"preview\":false,\"publish\":false},\"wgBetaFeaturesFeatures\":[],\"wgMediaViewerOnClick\":true,\"wgMediaViewerEnabledByDefault\":true,\"wgPopupsShouldSendModuleToUser\":false,\"wgPopupsConflictsWithNavPopupGadget\":false,\"wgVisualEditor\":{\"pageLanguageCode\":\"en\",\"pageLanguageDir\":\"ltr\",\"usePageImages\":true,\"usePageDescriptions\":true},\"wgMFMode\":\"stable\",\"wgMFLazyLoadImages\":true,\"wgMFLazyLoadReferences\":false,\"wgPreferredVariant\":\"en\",\"wgMFDisplayWikibaseDescriptions\":{\"search\":true,\"nearby\":true,\"watchlist\":true,\"tagline\":true},\"wgRelatedArticles\":null,\"wgRelatedArticlesBetaFeatureEnabled\":false,\"wgRelatedArticlesUseCirrusSearch\":true,\"wgRelatedArticlesOnlyUseCirrusSearch\":false,\"wgULSCurrentAutonym\":\"English\",\"wgNoticeProject\":\"wikipedia\",\"wgCentralNoticeCookiesToDelete\":[],\"wgCentralNoticeCategoriesUsingLegacy\":[\"Fundraising\",\"fundraising\"],\"wgCategoryTreePageCategoryOptions\":\"{\\\"mode\\\":0,\\\"hideprefix\\\":20,\\\"showcount\\\":true,\\\"namespaces\\\":false}\",\"wgWikibaseItemId\":\"Q5296\",\"wgCentralAuthMobileDomain\":true,\"wgVisualEditorToolbarScrollOffset\":0,\"wgEditSubmitButtonLabelPublish\":false,\"wgMinervaMenuData\":{\"groups\":[[{\"name\":\"home\",\"components\":[{\"text\":\"Home\",\"href\":\"/wiki/Main_Page\",\"class\":\"mw-ui-icon mw-ui-icon-before mw-ui-icon-mf-home \",\"data-event-name\":\"home\"}]},{\"name\":\"random\",\"components\":[{\"text\":\"Random\",\"href\":\"/wiki/Special:Random/#/random\",\"class\":\"mw-ui-icon mw-ui-icon-before mw-ui-icon-mf-random \",\"id\":\"randomButton\",\"data-event-name\":\"random\"}]},{\"name\":\"nearby\",\"components\":[{\"text\":\"Nearby\",\"href\":\"/wiki/Special:Nearby\",\"class\":\"mw-ui-icon mw-ui-icon-before mw-ui-icon-mf-nearby nearby\",\"data-event-name\":\"nearby\"}],\"class\":\"jsonly\"}],[{\"name\":\"auth\",\"components\":[{\"text\":\"Log in\",\"href\":\"/w/index.php?title=Special:UserLogin\\u0026returnto=Main+Page\\u0026returntoquery=welcome%3Dyes\",\"class\":\"mw-ui-icon mw-ui-icon-before mw-ui-icon-mf-anonymous \",\"data-event-name\":\"login\"}],\"class\":\"jsonly\"}],[{\"name\":\"settings\",\"components\":[{\"text\":\"Settings\",\"href\":\"/w/index.php?title=Special:MobileOptions\\u0026returnto=Main+Page\",\"class\":\"mw-ui-icon mw-ui-icon-before mw-ui-icon-mf-settings \",\"data-event-name\":\"settings\"}]}]],\"sitelinks\":[{\"name\":\"about\",\"components\":[{\"text\":\"About Wikipedia\",\"href\":\"/wiki/Wikipedia:About\",\"class\":\"\"}]},{\"name\":\"disclaimers\",\"components\":[{\"text\":\"Disclaimers\",\"href\":\"/wiki/Wikipedia:General_disclaimer\",\"class\":\"\"}]}]},\"wgMinervaTocEnabled\":false,\"wgMFDescription\":\"main page of Wikimedia projects\"});mw.loader.state({\"mobile.usermodule.styles\":\"ready\",\"user.styles\":\"ready\",\"user\":\"ready\",\"user.options\":\"loading\",\"user.tokens\":\"loading\",\"skins.minerva.base.reset\":\"ready\",\"skins.minerva.base.styles\":\"ready\",\"skins.minerva.content.styles\":\"ready\",\"skins.minerva.tablet.styles\":\"ready\",\"mediawiki.ui.icon\":\"ready\",\"mediawiki.ui.button\":\"ready\",\"skins.minerva.icons.images\":\"ready\",\"skins.minerva.mainPage.styles\":\"ready\",\"mobile.usermodule\":\"ready\"});mw.loader.implement(\"user.options@0j3lz3q\",function($,jQuery,require,module){mw.user.options.set({\"variant\":\"en\"});});mw.loader.implement(\"user.tokens@1dqfd7l\",function ( $, jQuery, require, module ) {\n",
       "mw.user.tokens.set({\"editToken\":\"+\\\\\",\"patrolToken\":\"+\\\\\",\"watchToken\":\"+\\\\\",\"csrfToken\":\"+\\\\\"});/*@nomin*/;\n",
       "\n",
       "});mw.loader.load([\"mediawiki.page.startup\",\"mediawiki.user\",\"mediawiki.hidpi\",\"skins.minerva.scripts.top\",\"skins.minerva.scripts\",\"skins.minerva.editor\",\"skins.minerva.toggling\",\"mobile.site\",\"ext.gadget.switcher\",\"ext.centralauth.centralautologin\",\"ext.visualEditor.targetLoader\",\"ext.eventLogging.subscriber\",\"ext.wikimediaEvents\",\"ext.navigationTiming\",\"ext.quicksurveys.init\",\"ext.centralNotice.geoIP\",\"ext.centralNotice.startUp\"]);});</script>\n",
       "<link href=\"/w/load.php?debug=false&amp;lang=en&amp;modules=mediawiki.ui.button%2Cicon%7Cskins.minerva.base.reset%2Cstyles%7Cskins.minerva.content.styles%7Cskins.minerva.icons.images%7Cskins.minerva.mainPage.styles%7Cskins.minerva.tablet.styles&amp;only=styles&amp;skin=minerva\" rel=\"stylesheet\"/>\n",
       "<script async=\"\" src=\"/w/load.php?debug=false&amp;lang=en&amp;modules=startup&amp;only=scripts&amp;skin=minerva&amp;target=mobile\"></script>\n",
       "<meta content=\"\" name=\"ResourceLoaderDynamicStyles\"/>\n",
       "<meta content=\"MediaWiki 1.29.0-wmf.13\" name=\"generator\"/>\n",
       "<meta content=\"origin-when-cross-origin\" name=\"referrer\"/>\n",
       "<meta content=\"https://upload.wikimedia.org/wikipedia/commons/thumb/8/8f/Lake_Meke_-_Meke_G%C3%B6l%C3%BC_07.JPG/1200px-Lake_Meke_-_Meke_G%C3%B6l%C3%BC_07.JPG\" property=\"og:image\"/>\n",
       "<meta content=\"initial-scale=1.0, user-scalable=yes, minimum-scale=0.25, maximum-scale=5.0, width=device-width\" name=\"viewport\"/>\n",
       "<link href=\"android-app://org.wikipedia/http/en.m.wikipedia.org/wiki/Main_Page\" rel=\"alternate\"/>\n",
       "<link href=\"/w/api.php?action=featuredfeed&amp;feed=potd&amp;feedformat=atom\" rel=\"alternate\" title=\"Wikipedia picture of the day feed\" type=\"application/atom+xml\"/>\n",
       "<link href=\"/w/api.php?action=featuredfeed&amp;feed=featured&amp;feedformat=atom\" rel=\"alternate\" title=\"Wikipedia featured articles feed\" type=\"application/atom+xml\"/>\n",
       "<link href=\"/w/api.php?action=featuredfeed&amp;feed=onthisday&amp;feedformat=atom\" rel=\"alternate\" title='Wikipedia \"On this day...\" feed' type=\"application/atom+xml\"/>\n",
       "<link href=\"/w/api.php?action=webapp-manifest\" rel=\"manifest\"/>\n",
       "<link href=\"/static/apple-touch/wikipedia.png\" rel=\"apple-touch-icon\"/>\n",
       "<link href=\"/static/favicon/wikipedia.ico\" rel=\"shortcut icon\"/>\n",
       "<link href=\"/w/opensearch_desc.php\" rel=\"search\" title=\"Wikipedia (en)\" type=\"application/opensearchdescription+xml\"/>\n",
       "<link href=\"//en.wikipedia.org/w/api.php?action=rsd\" rel=\"EditURI\" type=\"application/rsd+xml\"/>\n",
       "<link href=\"//creativecommons.org/licenses/by-sa/3.0/\" rel=\"copyright\"/>\n",
       "<link href=\"https://en.wikipedia.org/wiki/Main_Page\" rel=\"canonical\"/>\n",
       "<link href=\"//login.wikimedia.org\" rel=\"dns-prefetch\"/>\n",
       "<link href=\"//meta.wikimedia.org\" rel=\"dns-prefetch\"/>\n",
       "</head>\n",
       "<body class=\"mediawiki ltr sitedir-ltr mw-hide-empty-elt ns-0 ns-subject page-Main_Page rootpage-Main_Page stable skin-minerva action-view\">\n",
       "<div class=\"feature-header-v1\" id=\"mw-mf-viewport\">\n",
       "<!--[if lt IE 9]>\n",
       "   <script>\n",
       "      document.createElement('nav');\n",
       "   </script>\n",
       "<![endif]-->\n",
       "<nav class=\"navigation-drawer view-border-box\" id=\"mw-mf-page-left\">\n",
       "</nav>\n",
       "<div id=\"mw-mf-page-center\">\n",
       "<div class=\"banner-container\">\n",
       "<div id=\"siteNotice\"></div>\n",
       "</div>\n",
       "<div class=\"header-container header-chrome\">\n",
       "<form action=\"/w/index.php\" class=\"header\">\n",
       "<div><a class=\"mw-ui-icon mw-ui-icon-element mw-ui-icon-mainmenu main-menu-button\" href=\"/wiki/Special:MobileMenu\" id=\"mw-mf-main-menu-button\" title=\"Open main menu\">Open main menu</a></div>\n",
       "<div class=\"search-box\">\n",
       "<input autocomplete=\"off\" class=\"search\" id=\"searchInput\" name=\"search\" placeholder=\"Search Wikipedia\" type=\"search\" value=\"\"/>\n",
       "</div>\n",
       "<div><a class=\"mw-ui-icon mw-ui-icon-element mw-ui-icon-magnifying-glass\" href=\"/wiki/Special:Search\" id=\"searchIcon\"><input type=\"submit\" value=\"Search\"/></a></div>\n",
       "</form>\n",
       "</div>\n",
       "<div class=\"mw-body\" id=\"content\">\n",
       "<div class=\"pre-content heading-holder\"><h1 id=\"section_0\"></h1></div><div class=\"content\" id=\"bodyContent\"><div class=\"mw-content-ltr\" dir=\"ltr\" id=\"mw-content-text\" lang=\"en\"><div id=\"mainpage\"><h2>Today's featured article</h2><div id=\"mp-tfa\" style=\"padding:2px 5px\"><i><b><a href=\"/wiki/Burning_Rangers\" title=\"Burning Rangers\">Burning Rangers</a></b></i> is a 1998 <a href=\"/wiki/3D_computer_graphics\" title=\"3D computer graphics\">3D</a> <a href=\"/wiki/Action_game\" title=\"Action game\">action</a> video game developed by <a href=\"/wiki/Sonic_Team\" title=\"Sonic Team\">Sonic Team</a> and published by <a href=\"/wiki/Sega\" title=\"Sega\">Sega</a> for the <a href=\"/wiki/Sega_Saturn\" title=\"Sega Saturn\">Sega Saturn</a>. The game is set in a futuristic society threatened by frequent fires. Players control one of an elite group of <a href=\"/wiki/Firefighter\" title=\"Firefighter\">firefighters</a>, the Burning Rangers, who extinguish the fires and rescue civilians from burning buildings. Most of the tasks the players complete are centred around collecting energy crystals used to transport civilians to safety. Development began shortly after the release of <i><a class=\"mw-redirect\" href=\"/wiki/Christmas_Nights\" title=\"Christmas Nights\">Christmas Nights</a></i> in November 1996, when <a href=\"/wiki/Yuji_Naka\" title=\"Yuji Naka\">Yuji Naka</a> started working on a game focused on saving people rather than killing them. Sonic Team chose the themes of firefighting and heroism. <i>Burning Rangers</i> received mostly positive reviews, especially for the game's soundtrack and audio. Responses to the graphics were mixed; while some critics asserted that the game had the best visuals on the Saturn, others faulted its poor <a href=\"/wiki/Collision_detection#Video_games\" title=\"Collision detection\">collision detection</a> and occasional glitching. The game was among the final five Saturn titles released in America. (<a href=\"/wiki/Burning_Rangers\" title=\"Burning Rangers\"><b>Full article...</b></a>)\n",
       "<div class=\"tfa-recent\" style=\"text-align: right;\">Recently featured:\n",
       "<div class=\"hlist inline\">\n",
       "<ul><li><a href=\"/wiki/Viking_metal\" title=\"Viking metal\">Viking metal</a></li>\n",
       "<li><i><a href=\"/wiki/Banksia_attenuata\" title=\"Banksia attenuata\">Banksia attenuata</a></i></li>\n",
       "<li><a href=\"/wiki/Henry_Ho%CA%BBolulu_Pitman\" title=\"Henry Hoʻolulu Pitman\">Henry Hoʻolulu Pitman</a></li>\n",
       "</ul></div>\n",
       "</div>\n",
       "<div class=\"tfa-footer hlist noprint\" style=\"text-align: right;\">\n",
       "<ul><li><b><a href=\"/wiki/Wikipedia:Today%27s_featured_article/March_2017\" title=\"Wikipedia:Today's featured article/March 2017\">Archive</a></b></li>\n",
       "<li><b><a class=\"extiw\" href=\"https://lists.wikimedia.org/mailman/listinfo/daily-article-l\" title=\"mail:daily-article-l\">By email</a></b></li>\n",
       "<li><b><a href=\"/wiki/Wikipedia:Featured_articles\" title=\"Wikipedia:Featured articles\">More featured articles...</a></b></li>\n",
       "</ul></div>\n",
       "</div><h2>In the news</h2><div id=\"mp-itn\">\n",
       "<div class=\"itn-img\" style=\"float: right; margin-left: 0.5em;\">\n",
       "<div class=\"thumbinner mp-thumb\" style=\"background: transparent; border: none; padding: 0; max-width: 160px;\"><a class=\"image\" href=\"/wiki/File:Leekfrith_Torcs.jpg\" title=\"The Leekfrith torcs\"><img alt=\"The Leekfrith torcs\" data-file-height=\"3320\" data-file-width=\"5312\" height=\"100\" src=\"//upload.wikimedia.org/wikipedia/commons/thumb/c/c8/Leekfrith_Torcs.jpg/160px-Leekfrith_Torcs.jpg\" width=\"160\"/></a>\n",
       "<div class=\"thumbcaption\" style=\"padding: 0.25em 0; word-wrap: break-word;\">The Leekfrith torcs</div>\n",
       "</div>\n",
       "</div>\n",
       "<ul><li>The discovery of the <b><a href=\"/wiki/Leekfrith_torcs\" title=\"Leekfrith torcs\">Leekfrith torcs</a></b> <i>(pictured)</i>, believed to be the oldest <a href=\"/wiki/Iron_Age\" title=\"Iron Age\">Iron Age</a> gold jewellery found in Britain, is announced.</li>\n",
       "<li><i><a href=\"/wiki/Moonlight_(2016_film)\" title=\"Moonlight (2016 film)\">Moonlight</a></i> wins <a href=\"/wiki/Academy_Award_for_Best_Picture\" title=\"Academy Award for Best Picture\">Best Picture</a> and <i><a href=\"/wiki/La_La_Land_(film)\" title=\"La La Land (film)\">La La Land</a></i> wins in six categories at the <b><a href=\"/wiki/89th_Academy_Awards\" title=\"89th Academy Awards\">Academy Awards</a></b>.</li>\n",
       "<li>The Turkish-backed <a href=\"/wiki/Free_Syrian_Army\" title=\"Free Syrian Army\">Free Syrian Army</a> <b><a href=\"/wiki/Battle_of_al-Bab\" title=\"Battle of al-Bab\">captures</a></b> <a href=\"/wiki/Al-Bab\" title=\"Al-Bab\">Al-Bab</a> from <a class=\"mw-redirect\" href=\"/wiki/ISIL\" title=\"ISIL\">ISIL</a>.</li>\n",
       "<li>Astronomers announce that the star <b><span class=\"nowrap\"><a href=\"/wiki/TRAPPIST-1\" title=\"TRAPPIST-1\">TRAPPIST-1</a></span></b> hosts seven <a href=\"/wiki/Exoplanet\" title=\"Exoplanet\">exoplanets</a>, some orbiting in its <a href=\"/wiki/Circumstellar_habitable_zone\" title=\"Circumstellar habitable zone\">habitable zone</a>.</li>\n",
       "<li><a href=\"/wiki/South_Sudan\" title=\"South Sudan\">South Sudan</a> and the <a href=\"/wiki/United_Nations\" title=\"United Nations\">United Nations</a> declare <b><a href=\"/wiki/2017_South_Sudan_famine\" title=\"2017 South Sudan famine\">a famine</a></b> in parts of the country.</li>\n",
       "</ul><div class=\"itn-footer\" style=\"margin-top: 0.5em;\">\n",
       "<div><b><a href=\"/wiki/Portal:Current_events\" title=\"Portal:Current events\">Ongoing</a></b>:\n",
       "<div class=\"hlist inline\">\n",
       "<ul><li><a href=\"/wiki/Battle_of_Mosul_(2016%E2%80%9317)\" title=\"Battle of Mosul (2016–17)\">Battle of Mosul</a></li>\n",
       "</ul></div>\n",
       "</div>\n",
       "<div><b><a href=\"/wiki/Deaths_in_2017\" title=\"Deaths in 2017\">Recent deaths</a></b>:\n",
       "<div class=\"hlist inline\">\n",
       "<ul><li><a href=\"/wiki/Alex_Young_(footballer,_born_1937)\" title=\"Alex Young (footballer, born 1937)\">Alex Young</a></li>\n",
       "<li><a href=\"/wiki/Joseph_Wapner\" title=\"Joseph Wapner\">Joseph Wapner</a></li>\n",
       "<li><a href=\"/wiki/Gerald_Kaufman\" title=\"Gerald Kaufman\">Gerald Kaufman</a></li>\n",
       "<li><a href=\"/wiki/Bill_Paxton\" title=\"Bill Paxton\">Bill Paxton</a></li>\n",
       "</ul></div>\n",
       "</div>\n",
       "</div>\n",
       "</div></div><noscript><img alt=\"\" height=\"1\" src=\"//en.wikipedia.org/wiki/Special:CentralAutoLogin/start?type=1x1&amp;mobile=1\" style=\"border: none; position: absolute;\" title=\"\" width=\"1\"/></noscript></div><div class=\"printfooter\">\n",
       "Retrieved from \"<a dir=\"ltr\" href=\"https://en.wikipedia.org/w/index.php?title=Main_Page&amp;oldid=762066868\">https://en.wikipedia.org/w/index.php?title=Main_Page&amp;oldid=762066868</a>\"</div>\n",
       "</div><div class=\"post-content\" id=\"page-secondary-actions\"><a class=\"language-selector mw-ui-button button\" href=\"/wiki/Special:MobileLanguages/Main_Page\">Read in another language</a></div>\n",
       "</div>\n",
       "<footer>\n",
       "<div class=\"last-modified-bar view-border-box footer-element\">\n",
       "<div class=\"content\">\n",
       "<div class=\"last-modifier-tagline truncated-text mw-ui-icon mw-ui-icon-before mw-ui-icon-clock-gray \">\n",
       "<div class=\"mw-ui-icon mw-ui-icon-element mw-ui-icon-arrow-gray mw-ui-icon-small indicator\"></div><a data-timestamp=\"\" data-user-gender=\"male\" data-user-name=\"Od Mishehu\" href=\"/wiki/Special:History/Main_Page\">\n",
       "\t\t\t\tView edit history of this page.\n",
       "\t\t\t</a>\n",
       "</div>\n",
       "</div>\n",
       "</div>\n",
       "<div class=\"post-content footer-content\">\n",
       "<h2><img alt=\"Wikipedia\" height=\"18\" src=\"/static/images/mobile/copyright/wikipedia-wordmark-en.svg\" width=\"116\"/></h2>\n",
       "<div class=\"license\">Content is available under <a class=\"external\" href=\"//creativecommons.org/licenses/by-sa/3.0/\" rel=\"nofollow\">CC BY-SA 3.0</a> unless otherwise noted.</div>\n",
       "<ul class=\"footer-places hlist hlist-separated\">\n",
       "<li id=\"footer-places-terms-use\"><a href=\"//m.wikimediafoundation.org/wiki/Terms_of_Use\">Terms of Use</a></li><li id=\"footer-places-privacy\"><a class=\"extiw\" href=\"https://wikimediafoundation.org/wiki/Privacy_policy\" title=\"wmf:Privacy policy\">Privacy</a></li><li id=\"footer-places-desktop-toggle\"><a href=\"//en.wikipedia.org/w/index.php?title=Main_Page&amp;mobileaction=toggle_view_desktop\" id=\"mw-mf-display-toggle\">Desktop</a></li>\n",
       "</ul>\n",
       "</div>\n",
       "</footer>\n",
       "</div>\n",
       "</div>\n",
       "<!-- v:6 -->\n",
       "<script>(window.RLQ=window.RLQ||[]).push(function(){mw.config.set({\"wgPageParseReport\":{\"limitreport\":{\"cputime\":\"0.212\",\"walltime\":\"0.266\",\"ppvisitednodes\":{\"value\":2988,\"limit\":1000000},\"ppgeneratednodes\":{\"value\":0,\"limit\":1500000},\"postexpandincludesize\":{\"value\":102374,\"limit\":2097152},\"templateargumentsize\":{\"value\":5454,\"limit\":2097152},\"expansiondepth\":{\"value\":16,\"limit\":40},\"expensivefunctioncount\":{\"value\":6,\"limit\":500},\"entityaccesscount\":{\"value\":0,\"limit\":400},\"timingprofile\":[\"100.00%  187.340      1 -total\",\" 49.59%   92.903      1 Wikipedia:Main_Page/Tomorrow\",\" 37.79%   70.792      7 Template:Main_page_image\",\" 19.58%   36.672      2 Template:Wikipedia_languages\",\" 19.36%   36.277      1 Wikipedia:Selected_anniversaries/March_3\",\" 17.20%   32.232      1 Template:Did_you_know\",\" 15.71%   29.437      7 Template:Str_number/trim\",\" 14.16%   26.530     88 Template:Wikipedia_languages/core\",\" 13.99%   26.215      1 Template:Convert\",\" 12.63%   23.666     21 Template:If_empty\"]},\"scribunto\":{\"limitreport-timeusage\":{\"value\":\"0.054\",\"limit\":\"10.000\"},\"limitreport-memusage\":{\"value\":2264972,\"limit\":52428800}},\"cachereport\":{\"origin\":\"mw1173\",\"timestamp\":\"20170302084624\",\"ttl\":3600,\"transientcontent\":true}}});});</script><script>/*<![CDATA[*/(window.NORLQ=window.NORLQ||[]).push(function(){var ns,i,p,img;ns=document.getElementsByTagName('noscript');for(i=0;i<ns.length;i++){p=ns[i].nextSibling;if(p&&p.className&&p.className.indexOf('lazy-image-placeholder')>-1){img=document.createElement('img');img.setAttribute('src',p.getAttribute('data-src'));img.setAttribute('width',p.getAttribute('data-width'));img.setAttribute('height',p.getAttribute('data-height'));img.setAttribute('alt',p.getAttribute('data-alt'));p.parentNode.replaceChild(img,p);}}});/*]]>*/</script><script>(window.RLQ=window.RLQ||[]).push(function(){mw.config.set({\"wgBackendResponseTime\":68,\"wgHostname\":\"mw1184\"});});</script> </body>\n",
       "</html>"
      ]
     },
     "execution_count": 17,
     "metadata": {},
     "output_type": "execute_result"
    }
   ],
   "source": [
    "soup"
   ]
  },
  {
   "cell_type": "code",
   "execution_count": 18,
   "metadata": {
    "collapsed": false
   },
   "outputs": [
    {
     "data": {
      "text/plain": [
       "[<h2>Today's featured article</h2>,\n",
       " <h2>In the news</h2>,\n",
       " <h2><img alt=\"Wikipedia\" height=\"18\" src=\"/static/images/mobile/copyright/wikipedia-wordmark-en.svg\" width=\"116\"/></h2>]"
      ]
     },
     "execution_count": 18,
     "metadata": {},
     "output_type": "execute_result"
    }
   ],
   "source": [
    "soup.find_all('h2')"
   ]
  },
  {
   "cell_type": "code",
   "execution_count": 27,
   "metadata": {
    "collapsed": false
   },
   "outputs": [
    {
     "data": {
      "text/plain": [
       "'/wiki/Burning_Rangers'"
      ]
     },
     "execution_count": 27,
     "metadata": {},
     "output_type": "execute_result"
    }
   ],
   "source": [
    "first_link = soup.find_all('a')[2]\n",
    "first_link['href']"
   ]
  },
  {
   "cell_type": "code",
   "execution_count": 35,
   "metadata": {
    "collapsed": false
   },
   "outputs": [
    {
     "data": {
      "text/plain": [
       "'The discovery of the Leekfrith torcs (pictured), believed to be the oldest Iron Age gold jewellery found in Britain, is announced.'"
      ]
     },
     "execution_count": 35,
     "metadata": {},
     "output_type": "execute_result"
    }
   ],
   "source": [
    "in_the_news = soup.find_all('h2')[1]\n",
    "in_the_news.next_sibling.find('li').text"
   ]
  },
  {
   "cell_type": "code",
   "execution_count": null,
   "metadata": {
    "collapsed": true
   },
   "outputs": [],
   "source": []
  },
  {
   "cell_type": "code",
   "execution_count": null,
   "metadata": {
    "collapsed": true
   },
   "outputs": [],
   "source": []
  },
  {
   "cell_type": "code",
   "execution_count": null,
   "metadata": {
    "collapsed": true
   },
   "outputs": [],
   "source": []
  }
 ],
 "metadata": {
  "anaconda-cloud": {},
  "kernelspec": {
   "display_name": "Python [conda root]",
   "language": "python",
   "name": "conda-root-py"
  },
  "language_info": {
   "codemirror_mode": {
    "name": "ipython",
    "version": 3
   },
   "file_extension": ".py",
   "mimetype": "text/x-python",
   "name": "python",
   "nbconvert_exporter": "python",
   "pygments_lexer": "ipython3",
   "version": "3.5.2"
  }
 },
 "nbformat": 4,
 "nbformat_minor": 1
}
